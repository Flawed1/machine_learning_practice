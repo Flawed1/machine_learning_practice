{
 "cells": [
  {
   "cell_type": "code",
   "execution_count": 1,
   "metadata": {},
   "outputs": [],
   "source": [
    "import pandas as pd\n",
    "import numpy as np\n",
    "import sklearn.preprocessing as preprocessing\n",
    "import sklearn.model_selection as selection\n",
    "import imblearn.under_sampling as undersampling\n",
    "import sklearn.feature_selection as feature_selection\n",
    "import sklearn.linear_model as linear\n",
    "import sklearn.ensemble as ensemble\n",
    "import sklearn.metrics as metrics\n",
    "import sklearn.neighbors as neighbors\n",
    "import sklearn.tree as tree\n",
    "import sklearn.decomposition as decomposition\n",
    "import matplotlib.pyplot as plt\n",
    "import sklearn.svm as svm\n",
    "import sklearn.manifold as mnf\n",
    "import imblearn.over_sampling as oversampling\n",
    "from numpy.typing import *\n",
    "from typing import *\n",
    "from typing_extensions import Self"
   ]
  },
  {
   "cell_type": "code",
   "execution_count": 2,
   "metadata": {},
   "outputs": [],
   "source": [
    "data_class = pd.read_csv(\"../preprocessed/classification_preprocessed.csv\")\n",
    "X_class = data_class.drop(\"Delay\", axis=1)\n",
    "Y_class = data_class.Delay\n",
    "X_class, Y_class = undersampling.EditedNearestNeighbours(n_neighbors=5, n_jobs=-1).fit_resample(X_class, Y_class)\n",
    "scaler = preprocessing.StandardScaler()\n",
    "X_class = pd.DataFrame(scaler.fit_transform(X_class), columns=X_class.columns)"
   ]
  },
  {
   "cell_type": "code",
   "execution_count": 3,
   "metadata": {},
   "outputs": [],
   "source": [
    "data_regression = pd.read_csv(\"../preprocessed/regression_preprocessed.csv\")\n",
    "X_reg = data_regression.drop(\"price\", axis=1)\n",
    "Y_reg = data_regression.price"
   ]
  },
  {
   "attachments": {},
   "cell_type": "markdown",
   "metadata": {},
   "source": [
    "## Классификация"
   ]
  },
  {
   "cell_type": "code",
   "execution_count": 4,
   "metadata": {},
   "outputs": [],
   "source": [
    "def bagging_classification_test(X: NDArray, Y: NDArray) -> None:\n",
    "    X_train, X_test, Y_train, Y_test = selection.train_test_split(X, Y, test_size=0.2, stratify=Y)\n",
    "    boosting_classification_model = ensemble.BaggingClassifier(estimator=linear.LogisticRegressionCV(penalty=\"l2\", cv=3)).fit(X_train, Y_train)\n",
    "    boosting_classification_prediction = boosting_classification_model.predict(X_test)\n",
    "    print(metrics.classification_report(Y_test, boosting_classification_prediction))"
   ]
  },
  {
   "cell_type": "code",
   "execution_count": 5,
   "metadata": {},
   "outputs": [
    {
     "name": "stdout",
     "output_type": "stream",
     "text": [
      "              precision    recall  f1-score   support\n",
      "\n",
      "           0       0.70      0.79      0.74     26078\n",
      "           1       0.67      0.55      0.61     20042\n",
      "\n",
      "    accuracy                           0.69     46120\n",
      "   macro avg       0.69      0.67      0.67     46120\n",
      "weighted avg       0.69      0.69      0.68     46120\n",
      "\n"
     ]
    }
   ],
   "source": [
    "bagging_classification_test(X_class, Y_class)"
   ]
  },
  {
   "cell_type": "code",
   "execution_count": 6,
   "metadata": {},
   "outputs": [
    {
     "name": "stdout",
     "output_type": "stream",
     "text": [
      "23 -> 11\n",
      "['DayOfWeek' 'Time' 'Airline_AS' 'Airline_B6' 'Airline_CO' 'Airline_DL'\n",
      " 'Airline_EV' 'Airline_F9' 'Airline_OH' 'Airline_UA' 'Airline_YV']\n"
     ]
    }
   ],
   "source": [
    "variance_selector = feature_selection.VarianceThreshold(1)\n",
    "X_class_vt = variance_selector.fit_transform(X_class)\n",
    "print(f\"{X_class.shape[1]} -> {X_class_vt.shape[1]}\", variance_selector.get_feature_names_out(), sep=\"\\n\")"
   ]
  },
  {
   "cell_type": "code",
   "execution_count": 7,
   "metadata": {},
   "outputs": [
    {
     "name": "stdout",
     "output_type": "stream",
     "text": [
      "              precision    recall  f1-score   support\n",
      "\n",
      "           0       0.66      0.76      0.70     26078\n",
      "           1       0.61      0.49      0.54     20042\n",
      "\n",
      "    accuracy                           0.64     46120\n",
      "   macro avg       0.63      0.62      0.62     46120\n",
      "weighted avg       0.64      0.64      0.63     46120\n",
      "\n"
     ]
    }
   ],
   "source": [
    "bagging_classification_test(X_class_vt, Y_class)"
   ]
  },
  {
   "cell_type": "code",
   "execution_count": 8,
   "metadata": {},
   "outputs": [
    {
     "name": "stdout",
     "output_type": "stream",
     "text": [
      "23 -> 10\n",
      "['Time' 'Length' 'Airline_CO' 'Airline_FL' 'Airline_MQ' 'Airline_OH'\n",
      " 'Airline_UA' 'Airline_US' 'Airline_WN' 'Airline_YV']\n"
     ]
    }
   ],
   "source": [
    "kbest_selector = feature_selection.SelectKBest()\n",
    "X_class_kbest = kbest_selector.fit_transform(X_class, Y_class)\n",
    "print(f\"{X_class.shape[1]} -> {X_class_kbest.shape[1]}\", kbest_selector.get_feature_names_out(), sep=\"\\n\")"
   ]
  },
  {
   "cell_type": "code",
   "execution_count": 9,
   "metadata": {},
   "outputs": [
    {
     "name": "stdout",
     "output_type": "stream",
     "text": [
      "              precision    recall  f1-score   support\n",
      "\n",
      "           0       0.69      0.78      0.73     26078\n",
      "           1       0.66      0.54      0.59     20042\n",
      "\n",
      "    accuracy                           0.68     46120\n",
      "   macro avg       0.67      0.66      0.66     46120\n",
      "weighted avg       0.67      0.68      0.67     46120\n",
      "\n"
     ]
    }
   ],
   "source": [
    "bagging_classification_test(X_class_kbest, Y_class)"
   ]
  },
  {
   "cell_type": "code",
   "execution_count": 10,
   "metadata": {},
   "outputs": [
    {
     "name": "stdout",
     "output_type": "stream",
     "text": [
      "23 -> 5\n",
      "['Flight' 'Time' 'Length' 'Airline_WN' 'Route']\n"
     ]
    }
   ],
   "source": [
    "RFE_selector = feature_selection.RFECV(tree.DecisionTreeClassifier().fit(X_class, Y_class), min_features_to_select=5, cv=2)\n",
    "X_class_RFE = RFE_selector.fit_transform(X_class, Y_class)\n",
    "print(f\"{X_class.shape[1]} -> {X_class_RFE.shape[1]}\", RFE_selector.get_feature_names_out(), sep=\"\\n\")"
   ]
  },
  {
   "cell_type": "code",
   "execution_count": 11,
   "metadata": {},
   "outputs": [
    {
     "name": "stdout",
     "output_type": "stream",
     "text": [
      "              precision    recall  f1-score   support\n",
      "\n",
      "           0       0.67      0.79      0.72     26078\n",
      "           1       0.64      0.50      0.56     20042\n",
      "\n",
      "    accuracy                           0.66     46120\n",
      "   macro avg       0.66      0.64      0.64     46120\n",
      "weighted avg       0.66      0.66      0.65     46120\n",
      "\n"
     ]
    }
   ],
   "source": [
    "bagging_classification_test(X_class_RFE, Y_class)"
   ]
  },
  {
   "cell_type": "code",
   "execution_count": 12,
   "metadata": {},
   "outputs": [
    {
     "data": {
      "text/plain": [
       "0.20394107977527567"
      ]
     },
     "execution_count": 12,
     "metadata": {},
     "output_type": "execute_result"
    }
   ],
   "source": [
    "pca_decomposer = decomposition.PCA(3)\n",
    "X_class_PCA = pca_decomposer.fit_transform(X_class)\n",
    "np.sum(pca_decomposer.explained_variance_ratio_)"
   ]
  },
  {
   "cell_type": "code",
   "execution_count": 13,
   "metadata": {},
   "outputs": [
    {
     "data": {
      "image/png": "[encoded data removed]",
      "text/plain": [
       "<Figure size 640x480 with 1 Axes>"
      ]
     },
     "metadata": {},
     "output_type": "display_data"
    }
   ],
   "source": [
    "plt.scatter(X_class_PCA[:, 0], X_class_PCA[:, 1], c=Y_class);"
   ]
  },
  {
   "cell_type": "code",
   "execution_count": 14,
   "metadata": {},
   "outputs": [
    {
     "name": "stdout",
     "output_type": "stream",
     "text": [
      "              precision    recall  f1-score   support\n",
      "\n",
      "           0       0.64      0.82      0.72     26078\n",
      "           1       0.63      0.39      0.48     20042\n",
      "\n",
      "    accuracy                           0.63     46120\n",
      "   macro avg       0.63      0.61      0.60     46120\n",
      "weighted avg       0.63      0.63      0.61     46120\n",
      "\n"
     ]
    }
   ],
   "source": [
    "bagging_classification_test(X_class_PCA, Y_class)"
   ]
  },
  {
   "cell_type": "code",
   "execution_count": 15,
   "metadata": {},
   "outputs": [],
   "source": [
    "tsne_decomposer = mnf.TSNE(2, n_iter=250, n_jobs=-1)\n",
    "indices = np.random.randint(0, X_class.shape[0], size=5000)\n",
    "X_class_tsne = tsne_decomposer.fit_transform(X_class.to_numpy()[indices])"
   ]
  },
  {
   "cell_type": "code",
   "execution_count": 16,
   "metadata": {},
   "outputs": [
    {
     "data": {
      "text/plain": [
       "<matplotlib.collections.PathCollection at 0x7fa4c6ff5180>"
      ]
     },
     "execution_count": 16,
     "metadata": {},
     "output_type": "execute_result"
    },
    {
     "data": {
      "image/png": "[encoded data removed]",
      "text/plain": [
       "<Figure size 640x480 with 1 Axes>"
      ]
     },
     "metadata": {},
     "output_type": "display_data"
    }
   ],
   "source": [
    "plt.scatter(X_class_tsne[:, 0], X_class_tsne[:, 1], c=Y_class[indices])"
   ]
  },
  {
   "cell_type": "code",
   "execution_count": 17,
   "metadata": {},
   "outputs": [
    {
     "name": "stdout",
     "output_type": "stream",
     "text": [
      "              precision    recall  f1-score   support\n",
      "\n",
      "           0       0.63      0.73      0.67       563\n",
      "           1       0.56      0.45      0.50       437\n",
      "\n",
      "    accuracy                           0.61      1000\n",
      "   macro avg       0.60      0.59      0.59      1000\n",
      "weighted avg       0.60      0.61      0.60      1000\n",
      "\n"
     ]
    }
   ],
   "source": [
    "X_train, X_test, Y_train, Y_test = selection.train_test_split(X_class_tsne, Y_class[indices], test_size=0.2)\n",
    "boosting_classification_model = ensemble.BaggingClassifier().fit(X_train, Y_train)\n",
    "boosting_classification_prediction = boosting_classification_model.predict(X_test)\n",
    "print(metrics.classification_report(Y_test, boosting_classification_prediction))"
   ]
  },
  {
   "cell_type": "code",
   "execution_count": 18,
   "metadata": {},
   "outputs": [
    {
     "name": "stderr",
     "output_type": "stream",
     "text": [
      "/home/andrew/Projects/2023_1/machine_learning/lib/python3.10/site-packages/sklearn/manifold/_isomap.py:352: UserWarning: The number of connected components of the neighbors graph is 6 > 1. Completing the graph to fit Isomap might be slow. Increase the number of neighbors to avoid this issue.\n",
      "  self._fit_transform(X)\n",
      "/home/andrew/Projects/2023_1/machine_learning/lib/python3.10/site-packages/scipy/sparse/_index.py:103: SparseEfficiencyWarning: Changing the sparsity structure of a csr_matrix is expensive. lil_matrix is more efficient.\n",
      "  self._set_intXint(row, col, x.flat[0])\n",
      "/home/andrew/Projects/2023_1/machine_learning/lib/python3.10/site-packages/scipy/sparse/_index.py:103: SparseEfficiencyWarning: Changing the sparsity structure of a csr_matrix is expensive. lil_matrix is more efficient.\n",
      "  self._set_intXint(row, col, x.flat[0])\n",
      "/home/andrew/Projects/2023_1/machine_learning/lib/python3.10/site-packages/scipy/sparse/_index.py:103: SparseEfficiencyWarning: Changing the sparsity structure of a csr_matrix is expensive. lil_matrix is more efficient.\n",
      "  self._set_intXint(row, col, x.flat[0])\n",
      "/home/andrew/Projects/2023_1/machine_learning/lib/python3.10/site-packages/scipy/sparse/_index.py:103: SparseEfficiencyWarning: Changing the sparsity structure of a csr_matrix is expensive. lil_matrix is more efficient.\n",
      "  self._set_intXint(row, col, x.flat[0])\n",
      "/home/andrew/Projects/2023_1/machine_learning/lib/python3.10/site-packages/scipy/sparse/_index.py:103: SparseEfficiencyWarning: Changing the sparsity structure of a csr_matrix is expensive. lil_matrix is more efficient.\n",
      "  self._set_intXint(row, col, x.flat[0])\n",
      "/home/andrew/Projects/2023_1/machine_learning/lib/python3.10/site-packages/scipy/sparse/_index.py:103: SparseEfficiencyWarning: Changing the sparsity structure of a csr_matrix is expensive. lil_matrix is more efficient.\n",
      "  self._set_intXint(row, col, x.flat[0])\n",
      "/home/andrew/Projects/2023_1/machine_learning/lib/python3.10/site-packages/scipy/sparse/_index.py:103: SparseEfficiencyWarning: Changing the sparsity structure of a csr_matrix is expensive. lil_matrix is more efficient.\n",
      "  self._set_intXint(row, col, x.flat[0])\n",
      "/home/andrew/Projects/2023_1/machine_learning/lib/python3.10/site-packages/scipy/sparse/_index.py:103: SparseEfficiencyWarning: Changing the sparsity structure of a csr_matrix is expensive. lil_matrix is more efficient.\n",
      "  self._set_intXint(row, col, x.flat[0])\n",
      "/home/andrew/Projects/2023_1/machine_learning/lib/python3.10/site-packages/scipy/sparse/_index.py:103: SparseEfficiencyWarning: Changing the sparsity structure of a csr_matrix is expensive. lil_matrix is more efficient.\n",
      "  self._set_intXint(row, col, x.flat[0])\n",
      "/home/andrew/Projects/2023_1/machine_learning/lib/python3.10/site-packages/scipy/sparse/_index.py:103: SparseEfficiencyWarning: Changing the sparsity structure of a csr_matrix is expensive. lil_matrix is more efficient.\n",
      "  self._set_intXint(row, col, x.flat[0])\n",
      "/home/andrew/Projects/2023_1/machine_learning/lib/python3.10/site-packages/scipy/sparse/_index.py:103: SparseEfficiencyWarning: Changing the sparsity structure of a csr_matrix is expensive. lil_matrix is more efficient.\n",
      "  self._set_intXint(row, col, x.flat[0])\n",
      "/home/andrew/Projects/2023_1/machine_learning/lib/python3.10/site-packages/scipy/sparse/_index.py:103: SparseEfficiencyWarning: Changing the sparsity structure of a csr_matrix is expensive. lil_matrix is more efficient.\n",
      "  self._set_intXint(row, col, x.flat[0])\n",
      "/home/andrew/Projects/2023_1/machine_learning/lib/python3.10/site-packages/scipy/sparse/_index.py:103: SparseEfficiencyWarning: Changing the sparsity structure of a csr_matrix is expensive. lil_matrix is more efficient.\n",
      "  self._set_intXint(row, col, x.flat[0])\n",
      "/home/andrew/Projects/2023_1/machine_learning/lib/python3.10/site-packages/scipy/sparse/_index.py:103: SparseEfficiencyWarning: Changing the sparsity structure of a csr_matrix is expensive. lil_matrix is more efficient.\n",
      "  self._set_intXint(row, col, x.flat[0])\n",
      "/home/andrew/Projects/2023_1/machine_learning/lib/python3.10/site-packages/scipy/sparse/_index.py:103: SparseEfficiencyWarning: Changing the sparsity structure of a csr_matrix is expensive. lil_matrix is more efficient.\n",
      "  self._set_intXint(row, col, x.flat[0])\n"
     ]
    },
    {
     "data": {
      "text/html": [
       "<style>#sk-container-id-1 {color: black;background-color: white;}#sk-container-id-1 pre{padding: 0;}#sk-container-id-1 div.sk-toggleable {background-color: white;}#sk-container-id-1 label.sk-toggleable__label {cursor: pointer;display: block;width: 100%;margin-bottom: 0;padding: 0.3em;box-sizing: border-box;text-align: center;}#sk-container-id-1 label.sk-toggleable__label-arrow:before {content: \"▸\";float: left;margin-right: 0.25em;color: #696969;}#sk-container-id-1 label.sk-toggleable__label-arrow:hover:before {color: black;}#sk-container-id-1 div.sk-estimator:hover label.sk-toggleable__label-arrow:before {color: black;}#sk-container-id-1 div.sk-toggleable__content {max-height: 0;max-width: 0;overflow: hidden;text-align: left;background-color: #f0f8ff;}#sk-container-id-1 div.sk-toggleable__content pre {margin: 0.2em;color: black;border-radius: 0.25em;background-color: #f0f8ff;}#sk-container-id-1 input.sk-toggleable__control:checked~div.sk-toggleable__content {max-height: 200px;max-width: 100%;overflow: auto;}#sk-container-id-1 input.sk-toggleable__control:checked~label.sk-toggleable__label-arrow:before {content: \"▾\";}#sk-container-id-1 div.sk-estimator input.sk-toggleable__control:checked~label.sk-toggleable__label {background-color: #d4ebff;}#sk-container-id-1 div.sk-label input.sk-toggleable__control:checked~label.sk-toggleable__label {background-color: #d4ebff;}#sk-container-id-1 input.sk-hidden--visually {border: 0;clip: rect(1px 1px 1px 1px);clip: rect(1px, 1px, 1px, 1px);height: 1px;margin: -1px;overflow: hidden;padding: 0;position: absolute;width: 1px;}#sk-container-id-1 div.sk-estimator {font-family: monospace;background-color: #f0f8ff;border: 1px dotted black;border-radius: 0.25em;box-sizing: border-box;margin-bottom: 0.5em;}#sk-container-id-1 div.sk-estimator:hover {background-color: #d4ebff;}#sk-container-id-1 div.sk-parallel-item::after {content: \"\";width: 100%;border-bottom: 1px solid gray;flex-grow: 1;}#sk-container-id-1 div.sk-label:hover label.sk-toggleable__label {background-color: #d4ebff;}#sk-container-id-1 div.sk-serial::before {content: \"\";position: absolute;border-left: 1px solid gray;box-sizing: border-box;top: 0;bottom: 0;left: 50%;z-index: 0;}#sk-container-id-1 div.sk-serial {display: flex;flex-direction: column;align-items: center;background-color: white;padding-right: 0.2em;padding-left: 0.2em;position: relative;}#sk-container-id-1 div.sk-item {position: relative;z-index: 1;}#sk-container-id-1 div.sk-parallel {display: flex;align-items: stretch;justify-content: center;background-color: white;position: relative;}#sk-container-id-1 div.sk-item::before, #sk-container-id-1 div.sk-parallel-item::before {content: \"\";position: absolute;border-left: 1px solid gray;box-sizing: border-box;top: 0;bottom: 0;left: 50%;z-index: -1;}#sk-container-id-1 div.sk-parallel-item {display: flex;flex-direction: column;z-index: 1;position: relative;background-color: white;}#sk-container-id-1 div.sk-parallel-item:first-child::after {align-self: flex-end;width: 50%;}#sk-container-id-1 div.sk-parallel-item:last-child::after {align-self: flex-start;width: 50%;}#sk-container-id-1 div.sk-parallel-item:only-child::after {width: 0;}#sk-container-id-1 div.sk-dashed-wrapped {border: 1px dashed gray;margin: 0 0.4em 0.5em 0.4em;box-sizing: border-box;padding-bottom: 0.4em;background-color: white;}#sk-container-id-1 div.sk-label label {font-family: monospace;font-weight: bold;display: inline-block;line-height: 1.2em;}#sk-container-id-1 div.sk-label-container {text-align: center;}#sk-container-id-1 div.sk-container {/* jupyter's `normalize.less` sets `[hidden] { display: none; }` but bootstrap.min.css set `[hidden] { display: none !important; }` so we also need the `!important` here to be able to override the default hidden behavior on the sphinx rendered scikit-learn.org. See: https://github.com/scikit-learn/scikit-learn/issues/21755 */display: inline-block !important;position: relative;}#sk-container-id-1 div.sk-text-repr-fallback {display: none;}</style><div id=\"sk-container-id-1\" class=\"sk-top-container\"><div class=\"sk-text-repr-fallback\"><pre>Isomap(max_iter=1, n_components=3, n_jobs=-1)</pre><b>In a Jupyter environment, please rerun this cell to show the HTML representation or trust the notebook. <br />On GitHub, the HTML representation is unable to render, please try loading this page with nbviewer.org.</b></div><div class=\"sk-container\" hidden><div class=\"sk-item\"><div class=\"sk-estimator sk-toggleable\"><input class=\"sk-toggleable__control sk-hidden--visually\" id=\"sk-estimator-id-1\" type=\"checkbox\" checked><label for=\"sk-estimator-id-1\" class=\"sk-toggleable__label sk-toggleable__label-arrow\">Isomap</label><div class=\"sk-toggleable__content\"><pre>Isomap(max_iter=1, n_components=3, n_jobs=-1)</pre></div></div></div></div></div>"
      ],
      "text/plain": [
       "Isomap(max_iter=1, n_components=3, n_jobs=-1)"
      ]
     },
     "execution_count": 18,
     "metadata": {},
     "output_type": "execute_result"
    }
   ],
   "source": [
    "isomap_decomposer = mnf.Isomap(n_components=3, max_iter=1, n_jobs=-1)\n",
    "indices = np.random.randint(0, X_class.shape[0], size=100)\n",
    "isomap_decomposer.fit(X_class.iloc[indices])"
   ]
  },
  {
   "cell_type": "code",
   "execution_count": 19,
   "metadata": {},
   "outputs": [],
   "source": [
    "X_class_isomap = isomap_decomposer.transform(X_class)"
   ]
  },
  {
   "cell_type": "code",
   "execution_count": 20,
   "metadata": {},
   "outputs": [
    {
     "name": "stdout",
     "output_type": "stream",
     "text": [
      "              precision    recall  f1-score   support\n",
      "\n",
      "           0       0.78      0.87      0.82     26078\n",
      "           1       0.80      0.67      0.73     20042\n",
      "\n",
      "    accuracy                           0.78     46120\n",
      "   macro avg       0.79      0.77      0.78     46120\n",
      "weighted avg       0.79      0.78      0.78     46120\n",
      "\n"
     ]
    }
   ],
   "source": [
    "X_train, X_test, Y_train, Y_test = selection.train_test_split(X_class_isomap, Y_class, test_size=0.2, stratify=Y_class)\n",
    "boosting_classification_model = ensemble.StackingClassifier(estimators=[[\"tree\", tree.DecisionTreeClassifier()], [\"linear\", linear.LogisticRegression(\"l2\")]]).fit(X_train, Y_train)\n",
    "boosting_classification_prediction = boosting_classification_model.predict(X_test)\n",
    "print(metrics.classification_report(Y_test, boosting_classification_prediction))"
   ]
  },
  {
   "attachments": {},
   "cell_type": "markdown",
   "metadata": {},
   "source": [
    "# Регрессия"
   ]
  },
  {
   "cell_type": "code",
   "execution_count": 21,
   "metadata": {},
   "outputs": [],
   "source": [
    "def ridge_regression_test(X: NDArray, Y: NDArray) -> None:\n",
    "    X_train, X_test, Y_train, Y_test = selection.train_test_split(X, Y, test_size=0.2)\n",
    "    ridge_model = linear.RidgeCV(cv=2).fit(X_train, Y_train)\n",
    "    prediction = ridge_model.predict(X_test)\n",
    "    print(f\"r2: {metrics.r2_score(Y_test, prediction)}\",\n",
    "          f\"MAE: {metrics.mean_absolute_error(Y_test, prediction)}\",\n",
    "          f\"max error: {metrics.max_error(Y_test, prediction)}\",\n",
    "          sep=\"\\n\")"
   ]
  },
  {
   "cell_type": "code",
   "execution_count": 22,
   "metadata": {},
   "outputs": [
    {
     "name": "stdout",
     "output_type": "stream",
     "text": [
      "r2: 0.9221001886856968\n",
      "MAE: 733.4832879732396\n",
      "max error: 13902.46456889634\n"
     ]
    }
   ],
   "source": [
    "ridge_regression_test(X_reg, Y_reg)"
   ]
  },
  {
   "cell_type": "code",
   "execution_count": 23,
   "metadata": {},
   "outputs": [
    {
     "name": "stdout",
     "output_type": "stream",
     "text": [
      "22 -> 7\n",
      "['carat' 'cut' 'depth' 'table' 'x' 'y' 'z']\n"
     ]
    }
   ],
   "source": [
    "variance_selector = feature_selection.VarianceThreshold(0.2)\n",
    "X_reg_vt = variance_selector.fit_transform(X_reg)\n",
    "print(f\"{X_reg.shape[1]} -> {X_reg_vt.shape[1]}\", variance_selector.get_feature_names_out(), sep=\"\\n\")"
   ]
  },
  {
   "cell_type": "code",
   "execution_count": 24,
   "metadata": {},
   "outputs": [
    {
     "name": "stdout",
     "output_type": "stream",
     "text": [
      "r2: 0.8063606099725105\n",
      "MAE: 906.4658749424457\n",
      "max error: 81014.71145463595\n"
     ]
    }
   ],
   "source": [
    "ridge_regression_test(X_reg_vt, Y_reg)"
   ]
  },
  {
   "cell_type": "code",
   "execution_count": 25,
   "metadata": {},
   "outputs": [
    {
     "name": "stdout",
     "output_type": "stream",
     "text": [
      "22 -> 10\n",
      "['carat' 'x' 'y' 'z' 'color_D' 'color_H' 'color_J' 'clarity_SI1'\n",
      " 'clarity_SI2' 'clarity_VS2']\n"
     ]
    }
   ],
   "source": [
    "kbest_selector = feature_selection.SelectKBest()\n",
    "X_reg_kbest = kbest_selector.fit_transform(X_reg, Y_reg)\n",
    "print(f\"{X_reg.shape[1]} -> {X_reg_kbest.shape[1]}\", kbest_selector.get_feature_names_out(), sep=\"\\n\")"
   ]
  },
  {
   "cell_type": "code",
   "execution_count": 26,
   "metadata": {},
   "outputs": [
    {
     "name": "stdout",
     "output_type": "stream",
     "text": [
      "r2: 0.88946302200554\n",
      "MAE: 775.795653386795\n",
      "max error: 18753.607194837452\n"
     ]
    }
   ],
   "source": [
    "ridge_regression_test(X_reg_kbest, Y_reg)"
   ]
  },
  {
   "cell_type": "code",
   "execution_count": 27,
   "metadata": {},
   "outputs": [
    {
     "name": "stdout",
     "output_type": "stream",
     "text": [
      "22 -> 11\n",
      "['carat' 'x' 'y' 'z' 'color_H' 'color_I' 'color_J' 'clarity_I1'\n",
      " 'clarity_SI1' 'clarity_SI2' 'clarity_VS2']\n"
     ]
    }
   ],
   "source": [
    "RFE_selector = feature_selection.RFE(tree.DecisionTreeRegressor().fit(X_reg, Y_reg))\n",
    "X_reg_RFE = RFE_selector.fit_transform(X_reg, Y_reg)\n",
    "print(f\"{X_reg.shape[1]} -> {X_reg_RFE.shape[1]}\", RFE_selector.get_feature_names_out(), sep=\"\\n\")"
   ]
  },
  {
   "cell_type": "code",
   "execution_count": 28,
   "metadata": {},
   "outputs": [
    {
     "name": "stdout",
     "output_type": "stream",
     "text": [
      "r2: 0.9155192809018472\n",
      "MAE: 764.6678433701093\n",
      "max error: 13803.71360445979\n"
     ]
    }
   ],
   "source": [
    "ridge_regression_test(X_reg_RFE, Y_reg)"
   ]
  },
  {
   "cell_type": "code",
   "execution_count": 29,
   "metadata": {},
   "outputs": [
    {
     "data": {
      "text/plain": [
       "0.9565925643301042"
      ]
     },
     "execution_count": 29,
     "metadata": {},
     "output_type": "execute_result"
    }
   ],
   "source": [
    "pca_decomposer = decomposition.PCA(10)\n",
    "X_reg_PCA = pca_decomposer.fit_transform(X_reg)\n",
    "np.sum(pca_decomposer.explained_variance_ratio_)"
   ]
  },
  {
   "cell_type": "code",
   "execution_count": 30,
   "metadata": {},
   "outputs": [
    {
     "name": "stdout",
     "output_type": "stream",
     "text": [
      "r2: 0.7693068494147878\n",
      "MAE: 1302.6843015921459\n",
      "max error: 67041.59252353704\n"
     ]
    }
   ],
   "source": [
    "ridge_regression_test(X_reg_PCA, Y_reg)"
   ]
  },
  {
   "cell_type": "code",
   "execution_count": 31,
   "metadata": {},
   "outputs": [],
   "source": [
    "tsne_decomposer = mnf.TSNE(2, n_iter=250, n_jobs=-1)\n",
    "indices = np.random.randint(0, X_reg.shape[0], size=20000)\n",
    "X_reg_tsne = tsne_decomposer.fit_transform(X_reg.iloc[indices])"
   ]
  },
  {
   "cell_type": "code",
   "execution_count": 32,
   "metadata": {},
   "outputs": [
    {
     "name": "stdout",
     "output_type": "stream",
     "text": [
      "r2: 0.7656730182901275\n",
      "MAE: 1158.8347123240956\n",
      "max error: 13898.297537479713\n"
     ]
    }
   ],
   "source": [
    "X_train, X_test, Y_train, Y_test = selection.train_test_split(X_reg_tsne, Y_reg[indices], test_size=0.2)\n",
    "ridge_model = ensemble.StackingRegressor(estimators=[[\"tree\", tree.DecisionTreeRegressor()], [\"linear\", linear.RidgeCV()]]).fit(X_train, Y_train)\n",
    "prediction = ridge_model.predict(X_test)\n",
    "print(f\"r2: {metrics.r2_score(Y_test, prediction)}\",\n",
    "      f\"MAE: {metrics.mean_absolute_error(Y_test, prediction)}\",\n",
    "      f\"max error: {metrics.max_error(Y_test, prediction)}\",\n",
    "      sep=\"\\n\")"
   ]
  },
  {
   "cell_type": "code",
   "execution_count": 33,
   "metadata": {},
   "outputs": [],
   "source": [
    "isomap_decomposer = mnf.Isomap(n_components=11, n_neighbors=15, n_jobs=-1)\n",
    "indices = np.random.randint(0, X_reg.shape[0], size=5000)\n",
    "isomap_decomposer.fit(X_reg.iloc[indices]);"
   ]
  },
  {
   "cell_type": "code",
   "execution_count": 34,
   "metadata": {},
   "outputs": [],
   "source": [
    "X_reg_isomap = isomap_decomposer.transform(X_reg)"
   ]
  },
  {
   "cell_type": "code",
   "execution_count": 35,
   "metadata": {},
   "outputs": [
    {
     "name": "stdout",
     "output_type": "stream",
     "text": [
      "r2: 0.8643608996116903\n",
      "MAE: 842.7819098464452\n",
      "max error: 12931.499216672342\n"
     ]
    }
   ],
   "source": [
    "X_train, X_test, Y_train, Y_test = selection.train_test_split(X_reg_isomap, Y_reg, test_size=0.2)\n",
    "ridge_model = ensemble.StackingRegressor(estimators=[[\"tree\", tree.DecisionTreeRegressor()], [\"linear\", linear.LassoCV()]]).fit(X_train, Y_train)\n",
    "prediction = ridge_model.predict(X_test)\n",
    "print(f\"r2: {metrics.r2_score(Y_test, prediction)}\",\n",
    "      f\"MAE: {metrics.mean_absolute_error(Y_test, prediction)}\",\n",
    "      f\"max error: {metrics.max_error(Y_test, prediction)}\",\n",
    "      sep=\"\\n\")"
   ]
  },
  {
   "attachments": {},
   "cell_type": "markdown",
   "metadata": {},
   "source": [
    "# Алгоритм PCA"
   ]
  },
  {
   "cell_type": "code",
   "execution_count": 36,
   "metadata": {},
   "outputs": [],
   "source": [
    "from typing_extensions import Self\n",
    "\n",
    "\n",
    "class PCA:\n",
    "    def __init__(self, dimentions: int = 2) -> None:\n",
    "        self._dimentions = dimentions\n",
    "        self._projection_matrix: Optional[NDArray] = None\n",
    "        self._X: Optional[NDArray] = None\n",
    "    \n",
    "    def fit(self, X: NDArray) -> Self:\n",
    "        self._X = X\n",
    "        covariance = np.cov(X.T)\n",
    "        eigen_values, eigen_vectors = np.linalg.eig(covariance)\n",
    "        indices = eigen_values.argsort()[::-1]\n",
    "        eigen_values, eigen_vectors = eigen_values[indices], eigen_vectors[:, indices]\n",
    "        self._projection_matrix = eigen_vectors[:, :self._dimentions]\n",
    "        return self\n",
    "\n",
    "    def transform(self, X: Optional[NDArray] = None) -> NDArray:\n",
    "        if X is None:\n",
    "            X = self._X\n",
    "        X_transformed = X.dot(self._projection_matrix)\n",
    "        return X_transformed"
   ]
  },
  {
   "cell_type": "code",
   "execution_count": 37,
   "metadata": {},
   "outputs": [
    {
     "data": {
      "text/plain": [
       "(230600, 2)"
      ]
     },
     "execution_count": 37,
     "metadata": {},
     "output_type": "execute_result"
    }
   ],
   "source": [
    "pca_decomposer = PCA(2)\n",
    "X_class_2d_projection = pca_decomposer.fit(X_class.to_numpy()).transform()\n",
    "X_class_2d_projection.shape"
   ]
  },
  {
   "cell_type": "code",
   "execution_count": 38,
   "metadata": {},
   "outputs": [
    {
     "data": {
      "image/png": "[encoded data removed]",
      "text/plain": [
       "<Figure size 640x480 with 1 Axes>"
      ]
     },
     "metadata": {},
     "output_type": "display_data"
    }
   ],
   "source": [
    "plt.scatter(X_class_2d_projection[:, 0], X_class_2d_projection[:, 1], c=Y_class);"
   ]
  },
  {
   "attachments": {},
   "cell_type": "markdown",
   "metadata": {},
   "source": [
    "# Кластеризация преобразованных данных"
   ]
  },
  {
   "cell_type": "code",
   "execution_count": 39,
   "metadata": {},
   "outputs": [],
   "source": [
    "class KMeans:\n",
    "    def __init__(self, clusters: int, initial_cluster_distribution=5, eps=1e-5) -> None:\n",
    "        self._clusters = clusters\n",
    "        self.centers: NDArray = None\n",
    "        self._dimentions: int = None\n",
    "        self._labels: NDArray | None = None\n",
    "        self._stop_condition: bool\n",
    "        self.X: NDArray = None\n",
    "        self._eps = eps\n",
    "        self._initial_cluster_distribution = initial_cluster_distribution\n",
    "\n",
    "    def _euclidean_distance(self, point1: NDArray, point2: NDArray) -> float:\n",
    "        return np.sqrt(np.sum((point1 - point2)**2))\n",
    "    \n",
    "    def _update_labels(self) -> None:\n",
    "        labels = self.predict(self.X)\n",
    "        self._labels = labels\n",
    "    \n",
    "    def _get_label(self, point: NDArray) -> int:\n",
    "        return np.argmin(self._euclidean_distance(self.centers, point))\n",
    "\n",
    "    def _get_centers_max_difference(self, centers: NDArray) -> float:\n",
    "        return np.max([self._euclidean_distance(*pair) for pair in zip(self.centers, centers)])\n",
    "    \n",
    "    def _update_centers(self) -> None:\n",
    "        new_centers = np.empty_like(self.centers)\n",
    "        for i, center in enumerate(self.centers):\n",
    "            cluster_points: NDArray = self.X[self._labels == i]\n",
    "            new_centers[i] = np.mean(cluster_points, axis=0) if cluster_points.shape[0] > 0 else center\n",
    "        if self._get_centers_max_difference(new_centers) < self._eps:\n",
    "            self._stop_condition = True\n",
    "        self.centers = new_centers\n",
    "    \n",
    "    def fit(self, X: NDArray, max_iterations: int = 100) -> Self:\n",
    "        self.X = X\n",
    "        self._stop_condition = False\n",
    "        self._dimentions = X.shape[1]\n",
    "        self.centers = np.random.uniform(-self._initial_cluster_distribution, self._initial_cluster_distribution, size=(self._clusters, self._dimentions))\n",
    "        self._update_labels()\n",
    "        i = 0\n",
    "        while not self._stop_condition:\n",
    "            self._update_centers()\n",
    "            self._update_labels()\n",
    "            i += 1\n",
    "            if i >= max_iterations:\n",
    "                self._stop_condition = True\n",
    "        return self\n",
    "    \n",
    "    def predict(self, X: Optional[NDArray] = None) -> NDArray:\n",
    "        if X is None:\n",
    "            return self.labels\n",
    "        prediction = np.apply_along_axis(lambda point: np.argmin([self._euclidean_distance(center, point) for center in self.centers]), axis=1, arr=self.X)\n",
    "        return prediction\n",
    "    \n",
    "    @property\n",
    "    def centroid_mean_square_distance(self) -> float:\n",
    "        return np.power(np.apply_along_axis(lambda point: np.min([self._euclidean_distance(center, point) for center in self.centers]), axis=1, arr=self.X), 2).mean()\n",
    "    \n",
    "    @property\n",
    "    def labels(self) -> NDArray:\n",
    "        return self._labels\n",
    "    \n",
    "    @property\n",
    "    def clusters(self) -> int:\n",
    "        return self._clusters"
   ]
  },
  {
   "cell_type": "code",
   "execution_count": 40,
   "metadata": {},
   "outputs": [],
   "source": [
    "kmeans_prediction = KMeans(2).fit(X_class_2d_projection).predict()"
   ]
  },
  {
   "cell_type": "code",
   "execution_count": 41,
   "metadata": {},
   "outputs": [
    {
     "data": {
      "image/png": "[encoded data removed]",
      "text/plain": [
       "<Figure size 640x480 with 1 Axes>"
      ]
     },
     "metadata": {},
     "output_type": "display_data"
    }
   ],
   "source": [
    "plt.scatter(X_class_2d_projection[:, 0], X_class_2d_projection[:, 1], c=kmeans_prediction);"
   ]
  },
  {
   "attachments": {},
   "cell_type": "markdown",
   "metadata": {},
   "source": [
    "## Тестируем линейную модель из ЛР 1"
   ]
  },
  {
   "cell_type": "code",
   "execution_count": 42,
   "metadata": {},
   "outputs": [],
   "source": [
    "class LinearRegressionModel:\n",
    "    def __init__(self, alpha: float, learning_rate=0.00004, iterations=20000) -> None:\n",
    "        self._X: Optional[NDArray] = None\n",
    "        self._Y: Optional[NDArray] = None\n",
    "        self._alpha = alpha\n",
    "        self._learning_rate = learning_rate\n",
    "        self._iterations = iterations\n",
    "    \n",
    "    def fit(self, X: np.ndarray, Y: np.ndarray) -> Self:\n",
    "        self._X = X\n",
    "        self._Y = Y\n",
    "        self._m, self._n = X.shape\n",
    "        self._multipliers = np.full(shape=(self._n, 1), fill_value=0.)\n",
    "        self._w0 = 0\n",
    "        self._update()\n",
    "        return self\n",
    "\n",
    "    def _update(self) -> None:\n",
    "        for i in range(1, self._iterations + 1):\n",
    "            prediction = self.predict(self._X)\n",
    "\n",
    "            weights_difference = (-(2 * (self._X.T).dot(self._Y - prediction)) + (2 * self._alpha * self._multipliers)) / self._m\n",
    "\n",
    "            w0_difference = -2 * np.sum(self._Y - prediction) / self._m\n",
    "\n",
    "            self._multipliers -= self._learning_rate * weights_difference\n",
    "            self._w0 -= self._learning_rate * w0_difference\n",
    "        return\n",
    "    \n",
    "    def predict(self, X: np.ndarray) -> np.ndarray:\n",
    "        return X.dot(self._multipliers)\n",
    "    \n",
    "    def get_metrics(self, X_test: np.ndarray, Y_actual: np.ndarray) -> dict[str, float]:\n",
    "        prediction = self.predict(X_test)\n",
    "        results = {\n",
    "            \"MAE\": np.sum(np.abs(Y_actual - prediction)) / self._m,\n",
    "            \"MSE\": np.sum((Y_actual - prediction)**2) / self._m,\n",
    "            \"MAPE\": np.sum(np.abs((Y_actual - prediction) / Y_actual)) / self._m,\n",
    "        }\n",
    "        results.update({\"RMSE\": np.sqrt(results[\"MSE\"])})\n",
    "        results.update({\"R2\": 1 - self._m * results[\"MSE\"] / np.sum((Y_actual - np.sum(Y_actual) / self._m)**2)})\n",
    "        return results\n",
    "    \n",
    "    @property\n",
    "    def multipliers(self) -> NDArray:\n",
    "        return self._multipliers"
   ]
  },
  {
   "cell_type": "code",
   "execution_count": 43,
   "metadata": {},
   "outputs": [],
   "source": [
    "linear_model = LinearRegressionModel(0.2).fit(X_reg.to_numpy(), Y_reg.to_numpy().reshape(-1, 1))"
   ]
  },
  {
   "cell_type": "code",
   "execution_count": 54,
   "metadata": {},
   "outputs": [
    {
     "name": "stdout",
     "output_type": "stream",
     "text": [
      "(['x'], [[1256.5281661876065]])\n",
      "(['y'], [[1163.1875503450608]])\n",
      "(['z'], [[759.2034661421741]])\n",
      "(['carat'], [[699.1124317832619]])\n",
      "(['clarity_SI2'], [[-137.13476506274904]])\n"
     ]
    }
   ],
   "source": [
    "features_sorted_by_importance = np.argsort(np.abs(linear_model.multipliers), axis=0)[::-1]\n",
    "print(*zip(X_reg.columns.to_numpy()[features_sorted_by_importance].tolist(), linear_model.multipliers[features_sorted_by_importance].tolist()[:5], strict=False), sep=\"\\n\")"
   ]
  }
 ],
 "metadata": {
  "kernelspec": {
   "display_name": "machine_learning",
   "language": "python",
   "name": "python3"
  },
  "language_info": {
   "codemirror_mode": {
    "name": "ipython",
    "version": 3
   },
   "file_extension": ".py",
   "mimetype": "text/x-python",
   "name": "python",
   "nbconvert_exporter": "python",
   "pygments_lexer": "ipython3",
   "version": "3.10.4"
  },
  "orig_nbformat": 4
 },
 "nbformat": 4,
 "nbformat_minor": 2
}
