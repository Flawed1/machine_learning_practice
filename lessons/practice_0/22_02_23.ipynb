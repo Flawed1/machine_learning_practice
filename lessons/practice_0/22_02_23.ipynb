{
 "cells": [
  {
   "cell_type": "code",
   "execution_count": 1,
   "metadata": {},
   "outputs": [],
   "source": [
    "import numpy as np\n",
    "import pandas as pd\n",
    "import matplotlib.pyplot as plt"
   ]
  },
  {
   "cell_type": "code",
   "execution_count": 2,
   "metadata": {},
   "outputs": [
    {
     "name": "stdout",
     "output_type": "stream",
     "text": [
      "(10,)\n",
      "(10, 1)\n"
     ]
    }
   ],
   "source": [
    "x = np.array(np.arange(0, 1, 0.1))\n",
    "print(x.shape)\n",
    "x = np.array(np.arange(0, 1, 0.1)).reshape(-1, 1)\n",
    "print(x.shape)"
   ]
  },
  {
   "cell_type": "code",
   "execution_count": null,
   "metadata": {},
   "outputs": [],
   "source": [
    "np.random.seed(666) #\n",
    "\n",
    "x: np.ndarray = np.array([[x] for x in np.arange(0, 6, 1)])\n",
    "y: np.ndarray = np.array([x])"
   ]
  },
  {
   "cell_type": "code",
   "execution_count": null,
   "metadata": {},
   "outputs": [],
   "source": [
    "w0 = np.random.rand()\n",
    "w1 = np.random.rand()\n",
    "step = 0.008\n",
    "eps = 1e-3\n",
    "\n",
    "for i in range(500):\n",
    "    prediction = x * w1 + w0\n",
    "\n",
    "    loss = np.sum((y - prediction)**2) / x.shape[0] # MSE\n",
    "\n",
    "    w1 -= step * np.sum((prediction - y) * x) * 2 / x.shape[0]\n",
    "    w0 -= step * np.sum(prediction - y) * 2 / x.shape[0]\n",
    "\n",
    "    if np.abs(loss - np.sum((x * w1 + w0 - y)**2) / x.shape[0]) < eps:\n",
    "        print(loss)\n",
    "        break\n",
    "\n",
    "print(i)\n",
    "\n",
    "plt.scatter(x, y)\n",
    "plt.plot(x, x * w1 + w0)\n",
    "plt.plot(x, x * 2 + 10)"
   ]
  },
  {
   "cell_type": "code",
   "execution_count": null,
   "metadata": {},
   "outputs": [],
   "source": [
    "class linreg:\n",
    "    def __init__(self, lrate = 0.0001, iterations = 5000) -> None:\n",
    "        self.lrate = lrate\n",
    "        self.iterations = iterations\n",
    "    \n",
    "    def fit():\n",
    "        ...\n",
    "    \n",
    "    def predict():\n",
    "        ...\n",
    "    \n",
    "    def transform(self, x):\n",
    "        return np.concatenate((np.ones((len(x), 1)), x), axis=1)\n",
    "    \n",
    "    def loss(self, x):\n",
    "        ..."
   ]
  }
 ],
 "metadata": {
  "kernelspec": {
   "display_name": "machine_learning",
   "language": "python",
   "name": "python3"
  },
  "language_info": {
   "codemirror_mode": {
    "name": "ipython",
    "version": 3
   },
   "file_extension": ".py",
   "mimetype": "text/x-python",
   "name": "python",
   "nbconvert_exporter": "python",
   "pygments_lexer": "ipython3",
   "version": "3.10.4"
  },
  "orig_nbformat": 4,
  "vscode": {
   "interpreter": {
    "hash": "a5f6db79dc5e655820a65bda24bee902d9201a690bbb24e9f5bc6773875da525"
   }
  }
 },
 "nbformat": 4,
 "nbformat_minor": 2
}
