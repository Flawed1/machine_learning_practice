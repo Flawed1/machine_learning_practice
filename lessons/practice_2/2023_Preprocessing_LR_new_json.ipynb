{
  "cells": [
    {
      "cell_type": "markdown",
      "metadata": {
        "id": "KhfsE3FW0lWY"
      },
      "source": [
        "**Корректность проверена на Python 3.6:**\n",
        "+ pandas 0.23.4\n",
        "+ numpy 1.15.4\n",
        "+ matplotlib 3.0.2\n",
        "+ sklearn 0.20.2"
      ]
    },
    {
      "cell_type": "code",
      "execution_count": 1,
      "metadata": {
        "id": "IEAN_7y20lWd"
      },
      "outputs": [],
      "source": [
        "import warnings\n",
        "warnings.filterwarnings('ignore')"
      ]
    },
    {
      "cell_type": "markdown",
      "metadata": {
        "id": "FMS5divt0lWf"
      },
      "source": [
        "## Предобработка данных и логистическая регрессия для задачи бинарной классификации"
      ]
    },
    {
      "cell_type": "markdown",
      "metadata": {
        "id": "YZiSt2Te0lWh"
      },
      "source": [
        "В задании вам будет предложено ознакомиться с основными техниками предобработки данных, а так же применить их для обучения модели логистической регрессии. "
      ]
    },
    {
      "cell_type": "code",
      "execution_count": 2,
      "metadata": {
        "id": "OFIzbX_g0lWh"
      },
      "outputs": [],
      "source": [
        "import pandas as pd\n",
        "import numpy as np\n",
        "import matplotlib\n",
        "from matplotlib import pyplot as plt\n",
        "matplotlib.style.use('ggplot')\n",
        "%matplotlib inline\n",
        "\n",
        "import warnings\n",
        "warnings.filterwarnings('ignore')"
      ]
    },
    {
      "cell_type": "markdown",
      "metadata": {
        "id": "DC4mqBQD0lWi"
      },
      "source": [
        "## Описание датасета"
      ]
    },
    {
      "cell_type": "markdown",
      "metadata": {
        "id": "Q4H4m1Wt0lWj"
      },
      "source": [
        "Задача: по 38 признакам, связанных с заявкой на грант (область исследований учёных, информация по их академическому бэкграунду, размер гранта, область, в которой он выдаётся) предсказать, будет ли заявка принята. Датасет включает в себя информацию по 6000 заявкам на гранты, которые были поданы в университете Мельбурна в период с 2004 по 2008 год.\n",
        "\n",
        "Полную версию данных с большим количеством признаков можно найти на https://www.kaggle.com/c/unimelb."
      ]
    },
    {
      "cell_type": "code",
      "execution_count": 3,
      "metadata": {
        "id": "tqZ-_bqX0lWk"
      },
      "outputs": [
        {
          "data": {
            "text/plain": [
              "(6000, 39)"
            ]
          },
          "execution_count": 3,
          "metadata": {},
          "output_type": "execute_result"
        }
      ],
      "source": [
        "data = pd.read_csv('data.csv')\n",
        "data.shape"
      ]
    },
    {
      "cell_type": "markdown",
      "metadata": {
        "id": "Yao0Xuon0lWl"
      },
      "source": [
        "Выделим из датасета целевую переменную Grant.Status и обозначим её за y\n",
        "Теперь X обозначает обучающую выборку, y - ответы на ней"
      ]
    },
    {
      "cell_type": "code",
      "execution_count": 4,
      "metadata": {
        "id": "vyry-Xqv0lWl"
      },
      "outputs": [],
      "source": [
        "X = data.drop('Grant.Status', 1)\n",
        "Y = data['Grant.Status']"
      ]
    },
    {
      "cell_type": "markdown",
      "metadata": {
        "id": "eFHEX7w10lWm"
      },
      "source": [
        "## Теория по логистической регрессии"
      ]
    },
    {
      "cell_type": "markdown",
      "metadata": {
        "id": "3Hr1HB0d0lWm"
      },
      "source": [
        "После осознания того, какую именно задачу требуется решить на этих данных, следующим шагом при реальном анализе был бы подбор подходящего метода. В данном задании выбор метода было произведён за вас, это логистическая регрессия. Кратко напомним вам используемую модель.\n",
        "\n",
        "Логистическая регрессия предсказывает вероятности принадлежности объекта к каждому классу. Сумма ответов логистической регрессии на одном объекте для всех классов равна единице.\n",
        "\n",
        "$$ \\sum_{k=1}^K \\pi_{ik} = 1, \\quad \\pi_k \\equiv P\\,(y_i = k \\mid x_i, \\theta), $$\n",
        "\n",
        "где:\n",
        "- $\\pi_{ik}$ - вероятность принадлежности объекта $x_i$ из выборки $X$ к классу $k$\n",
        "- $\\theta$ - внутренние параметры алгоритма, которые настраиваются в процессе обучения, в случае логистической регрессии - $w, b$\n",
        "\n",
        "Из этого свойства модели в случае бинарной классификации требуется вычислить лишь вероятность принадлежности объекта к одному из классов (вторая вычисляется из условия нормировки вероятностей). Эта вероятность вычисляется, используя логистическую функцию:\n",
        "\n",
        "$$ P\\,(y_i = 1 \\mid x_i, \\theta) = \\frac{1}{1 + \\exp(-w^T x_i-b)} $$\n",
        "\n",
        "Параметры $w$ и $b$ находятся, как решения следующей задачи оптимизации (указаны функционалы с L1 и L2 регуляризацией, с которыми вы познакомились в предыдущих заданиях):\n",
        "\n",
        "L2-regularization:\n",
        "\n",
        "$$ Q(X, y, \\theta) = \\frac{1}{2} w^T w + C \\sum_{i=1}^l \\log ( 1 + \\exp(-y_i (w^T x_i + b ) ) ) \\longrightarrow \\min\\limits_{w,b} $$\n",
        "\n",
        "L1-regularization:\n",
        "\n",
        "$$ Q(X, y, \\theta) = \\sum_{d=1}^D |w_d| + C \\sum_{i=1}^l \\log ( 1 + \\exp(-y_i (w^T x_i + b ) ) ) \\longrightarrow \\min\\limits_{w,b} $$\n",
        "\n",
        "$C$ - это стандартный гиперпараметр модели, который регулирует то, насколько сильно мы позволяем модели подстраиваться под данные."
      ]
    },
    {
      "cell_type": "markdown",
      "metadata": {
        "id": "Tmbumqkr0lWn"
      },
      "source": [
        "## Предобработка данных"
      ]
    },
    {
      "cell_type": "markdown",
      "metadata": {
        "id": "UwxeC71R0lWo"
      },
      "source": [
        "Из свойств данной модели следует, что:\n",
        "- все $X$ должны быть числовыми данными (в случае наличия среди них категорий, их требуется некоторым способом преобразовать в вещественные числа)\n",
        "- среди $X$ не должно быть пропущенных значений (т.е. все пропущенные значения перед применением модели следует каким-то образом заполнить)\n",
        "\n",
        "Поэтому базовым этапом в предобработке любого датасета для логистической регрессии будет кодирование категориальных признаков, а так же удаление или интерпретация пропущенных значений (при наличии того или другого)."
      ]
    },
    {
      "cell_type": "code",
      "execution_count": 5,
      "metadata": {
        "id": "G8VHjEed0lWp"
      },
      "outputs": [
        {
          "data": {
            "text/html": [
              "<div>\n",
              "<style scoped>\n",
              "    .dataframe tbody tr th:only-of-type {\n",
              "        vertical-align: middle;\n",
              "    }\n",
              "\n",
              "    .dataframe tbody tr th {\n",
              "        vertical-align: top;\n",
              "    }\n",
              "\n",
              "    .dataframe thead th {\n",
              "        text-align: right;\n",
              "    }\n",
              "</style>\n",
              "<table border=\"1\" class=\"dataframe\">\n",
              "  <thead>\n",
              "    <tr style=\"text-align: right;\">\n",
              "      <th></th>\n",
              "      <th>Grant.Status</th>\n",
              "      <th>Sponsor.Code</th>\n",
              "      <th>Grant.Category.Code</th>\n",
              "      <th>Contract.Value.Band...see.note.A</th>\n",
              "      <th>RFCD.Code.1</th>\n",
              "      <th>RFCD.Percentage.1</th>\n",
              "      <th>RFCD.Code.2</th>\n",
              "      <th>RFCD.Percentage.2</th>\n",
              "      <th>RFCD.Code.3</th>\n",
              "      <th>RFCD.Percentage.3</th>\n",
              "      <th>...</th>\n",
              "      <th>Dept.No..1</th>\n",
              "      <th>Faculty.No..1</th>\n",
              "      <th>With.PHD.1</th>\n",
              "      <th>No..of.Years.in.Uni.at.Time.of.Grant.1</th>\n",
              "      <th>Number.of.Successful.Grant.1</th>\n",
              "      <th>Number.of.Unsuccessful.Grant.1</th>\n",
              "      <th>A..1</th>\n",
              "      <th>A.1</th>\n",
              "      <th>B.1</th>\n",
              "      <th>C.1</th>\n",
              "    </tr>\n",
              "  </thead>\n",
              "  <tbody>\n",
              "    <tr>\n",
              "      <th>0</th>\n",
              "      <td>1</td>\n",
              "      <td>21A</td>\n",
              "      <td>50A</td>\n",
              "      <td>A</td>\n",
              "      <td>230202.0</td>\n",
              "      <td>50.0</td>\n",
              "      <td>230203.0</td>\n",
              "      <td>30.0</td>\n",
              "      <td>230204.0</td>\n",
              "      <td>20.0</td>\n",
              "      <td>...</td>\n",
              "      <td>3098.0</td>\n",
              "      <td>31.0</td>\n",
              "      <td>Yes</td>\n",
              "      <td>&gt;=0 to 5</td>\n",
              "      <td>2.0</td>\n",
              "      <td>0.0</td>\n",
              "      <td>0.0</td>\n",
              "      <td>4.0</td>\n",
              "      <td>2.0</td>\n",
              "      <td>0.0</td>\n",
              "    </tr>\n",
              "    <tr>\n",
              "      <th>1</th>\n",
              "      <td>1</td>\n",
              "      <td>4D</td>\n",
              "      <td>10A</td>\n",
              "      <td>D</td>\n",
              "      <td>320801.0</td>\n",
              "      <td>100.0</td>\n",
              "      <td>0.0</td>\n",
              "      <td>0.0</td>\n",
              "      <td>0.0</td>\n",
              "      <td>0.0</td>\n",
              "      <td>...</td>\n",
              "      <td>2553.0</td>\n",
              "      <td>25.0</td>\n",
              "      <td>Yes</td>\n",
              "      <td>&gt;=0 to 5</td>\n",
              "      <td>3.0</td>\n",
              "      <td>1.0</td>\n",
              "      <td>0.0</td>\n",
              "      <td>2.0</td>\n",
              "      <td>0.0</td>\n",
              "      <td>0.0</td>\n",
              "    </tr>\n",
              "    <tr>\n",
              "      <th>2</th>\n",
              "      <td>0</td>\n",
              "      <td>NaN</td>\n",
              "      <td>NaN</td>\n",
              "      <td>NaN</td>\n",
              "      <td>320602.0</td>\n",
              "      <td>50.0</td>\n",
              "      <td>321004.0</td>\n",
              "      <td>30.0</td>\n",
              "      <td>321015.0</td>\n",
              "      <td>20.0</td>\n",
              "      <td>...</td>\n",
              "      <td>2813.0</td>\n",
              "      <td>25.0</td>\n",
              "      <td>NaN</td>\n",
              "      <td>Less than 0</td>\n",
              "      <td>1.0</td>\n",
              "      <td>5.0</td>\n",
              "      <td>0.0</td>\n",
              "      <td>7.0</td>\n",
              "      <td>2.0</td>\n",
              "      <td>0.0</td>\n",
              "    </tr>\n",
              "    <tr>\n",
              "      <th>3</th>\n",
              "      <td>0</td>\n",
              "      <td>51C</td>\n",
              "      <td>20C</td>\n",
              "      <td>A</td>\n",
              "      <td>291503.0</td>\n",
              "      <td>60.0</td>\n",
              "      <td>321402.0</td>\n",
              "      <td>40.0</td>\n",
              "      <td>0.0</td>\n",
              "      <td>0.0</td>\n",
              "      <td>...</td>\n",
              "      <td>2553.0</td>\n",
              "      <td>25.0</td>\n",
              "      <td>NaN</td>\n",
              "      <td>more than 15</td>\n",
              "      <td>2.0</td>\n",
              "      <td>1.0</td>\n",
              "      <td>5.0</td>\n",
              "      <td>6.0</td>\n",
              "      <td>9.0</td>\n",
              "      <td>1.0</td>\n",
              "    </tr>\n",
              "    <tr>\n",
              "      <th>4</th>\n",
              "      <td>0</td>\n",
              "      <td>24D</td>\n",
              "      <td>30B</td>\n",
              "      <td>NaN</td>\n",
              "      <td>380107.0</td>\n",
              "      <td>100.0</td>\n",
              "      <td>0.0</td>\n",
              "      <td>0.0</td>\n",
              "      <td>0.0</td>\n",
              "      <td>0.0</td>\n",
              "      <td>...</td>\n",
              "      <td>2923.0</td>\n",
              "      <td>25.0</td>\n",
              "      <td>NaN</td>\n",
              "      <td>Less than 0</td>\n",
              "      <td>0.0</td>\n",
              "      <td>2.0</td>\n",
              "      <td>0.0</td>\n",
              "      <td>0.0</td>\n",
              "      <td>0.0</td>\n",
              "      <td>0.0</td>\n",
              "    </tr>\n",
              "  </tbody>\n",
              "</table>\n",
              "<p>5 rows × 39 columns</p>\n",
              "</div>"
            ],
            "text/plain": [
              "   Grant.Status Sponsor.Code Grant.Category.Code  \\\n",
              "0             1          21A                 50A   \n",
              "1             1           4D                 10A   \n",
              "2             0          NaN                 NaN   \n",
              "3             0          51C                 20C   \n",
              "4             0          24D                 30B   \n",
              "\n",
              "  Contract.Value.Band...see.note.A  RFCD.Code.1  RFCD.Percentage.1  \\\n",
              "0                               A      230202.0               50.0   \n",
              "1                               D      320801.0              100.0   \n",
              "2                              NaN     320602.0               50.0   \n",
              "3                               A      291503.0               60.0   \n",
              "4                              NaN     380107.0              100.0   \n",
              "\n",
              "   RFCD.Code.2  RFCD.Percentage.2  RFCD.Code.3  RFCD.Percentage.3  ...  \\\n",
              "0     230203.0               30.0     230204.0               20.0  ...   \n",
              "1          0.0                0.0          0.0                0.0  ...   \n",
              "2     321004.0               30.0     321015.0               20.0  ...   \n",
              "3     321402.0               40.0          0.0                0.0  ...   \n",
              "4          0.0                0.0          0.0                0.0  ...   \n",
              "\n",
              "   Dept.No..1  Faculty.No..1  With.PHD.1  \\\n",
              "0      3098.0           31.0        Yes    \n",
              "1      2553.0           25.0        Yes    \n",
              "2      2813.0           25.0         NaN   \n",
              "3      2553.0           25.0         NaN   \n",
              "4      2923.0           25.0         NaN   \n",
              "\n",
              "   No..of.Years.in.Uni.at.Time.of.Grant.1  Number.of.Successful.Grant.1  \\\n",
              "0                                >=0 to 5                           2.0   \n",
              "1                                >=0 to 5                           3.0   \n",
              "2                             Less than 0                           1.0   \n",
              "3                            more than 15                           2.0   \n",
              "4                             Less than 0                           0.0   \n",
              "\n",
              "   Number.of.Unsuccessful.Grant.1  A..1  A.1  B.1  C.1  \n",
              "0                             0.0   0.0  4.0  2.0  0.0  \n",
              "1                             1.0   0.0  2.0  0.0  0.0  \n",
              "2                             5.0   0.0  7.0  2.0  0.0  \n",
              "3                             1.0   5.0  6.0  9.0  1.0  \n",
              "4                             2.0   0.0  0.0  0.0  0.0  \n",
              "\n",
              "[5 rows x 39 columns]"
            ]
          },
          "execution_count": 5,
          "metadata": {},
          "output_type": "execute_result"
        }
      ],
      "source": [
        "data.head()"
      ]
    },
    {
      "cell_type": "markdown",
      "metadata": {
        "id": "GZ_s2kW30lWp"
      },
      "source": [
        "Видно, что в датасете есть как числовые, так и категориальные признаки. Получим списки их названий:"
      ]
    },
    {
      "cell_type": "code",
      "execution_count": 6,
      "metadata": {
        "id": "lG9JKs9V0lWp"
      },
      "outputs": [
        {
          "data": {
            "text/plain": [
              "['Country.of.Birth.1',\n",
              " 'RFCD.Code.1',\n",
              " 'RFCD.Code.4',\n",
              " 'C.1',\n",
              " 'SEO.Code.3',\n",
              " 'Grant.Category.Code',\n",
              " 'RFCD.Code.2',\n",
              " 'RFCD.Code.5',\n",
              " 'B.1',\n",
              " 'Contract.Value.Band...see.note.A',\n",
              " 'With.PHD.1',\n",
              " 'Role.1',\n",
              " 'Faculty.No..1',\n",
              " 'Dept.No..1',\n",
              " 'SEO.Code.4',\n",
              " 'No..of.Years.in.Uni.at.Time.of.Grant.1',\n",
              " 'SEO.Code.5',\n",
              " 'RFCD.Code.3',\n",
              " 'A.1',\n",
              " 'SEO.Code.1',\n",
              " 'Person.ID.1',\n",
              " 'Sponsor.Code',\n",
              " 'A..1',\n",
              " 'Home.Language.1',\n",
              " 'SEO.Code.2']"
            ]
          },
          "execution_count": 6,
          "metadata": {},
          "output_type": "execute_result"
        }
      ],
      "source": [
        "numeric_cols = ['RFCD.Percentage.1', 'RFCD.Percentage.2', 'RFCD.Percentage.3', \n",
        "                'RFCD.Percentage.4', 'RFCD.Percentage.5',\n",
        "                'SEO.Percentage.1', 'SEO.Percentage.2', 'SEO.Percentage.3',\n",
        "                'SEO.Percentage.4', 'SEO.Percentage.5',\n",
        "                'Year.of.Birth.1', 'Number.of.Successful.Grant.1', 'Number.of.Unsuccessful.Grant.1']\n",
        "categorical_cols = list(set(X.columns.values.tolist()) - set(numeric_cols))\n",
        "categorical_cols"
      ]
    },
    {
      "cell_type": "markdown",
      "metadata": {
        "id": "jhh4zf5q0lWq"
      },
      "source": [
        "Также в нём присутствуют пропущенные значения. Очевидны решением будет исключение всех данных, у которых пропущено хотя бы одно значение. Сделаем это:"
      ]
    },
    {
      "cell_type": "code",
      "execution_count": 7,
      "metadata": {
        "id": "bM6pkB2z0lWq"
      },
      "outputs": [
        {
          "data": {
            "text/plain": [
              "(213, 39)"
            ]
          },
          "execution_count": 7,
          "metadata": {},
          "output_type": "execute_result"
        }
      ],
      "source": [
        "data.dropna().shape"
      ]
    },
    {
      "cell_type": "markdown",
      "metadata": {
        "id": "o57BV6DI0lWq"
      },
      "source": [
        "Видно, что тогда мы выбросим почти все данные, и такой метод решения в данном случае не сработает.\n",
        "\n",
        "Пропущенные значения можно так же интерпретировать, для этого существует несколько способов, они различаются для категориальных и вещественных признаков.\n",
        "\n",
        "Для вещественных признаков:\n",
        "- заменить на 0 (данный признак давать вклад в предсказание для данного объекта не будет)\n",
        "- заменить на среднее (каждый пропущенный признак будет давать такой же вклад, как и среднее значение признака на датасете)\n",
        "\n",
        "Для категориальных:\n",
        "- интерпретировать пропущенное значение, как ещё одну категорию (данный способ является самым естественным, так как в случае категорий у нас есть уникальная возможность не потерять информацию о наличии пропущенных значений; обратите внимание, что в случае вещественных признаков данная информация неизбежно теряется)"
      ]
    },
    {
      "cell_type": "markdown",
      "metadata": {
        "id": "ssK3dPOI0lWq"
      },
      "source": [
        "##  Задание 0. Обработка пропущенных значений.\n",
        "1. Заполните пропущенные вещественные значения в X нулями и средними по столбцам, назовите полученные датафреймы X_real_zeros и X_real_mean соответственно. Для подсчёта средних используйте описанную ниже функцию calculate_means, которой требуется передать на вход вешественные признаки из исходного датафрейма. **Для подсчета среднего можно использовать функцию pandas.mean()**\n",
        "2. Все категориальные признаки в X преобразуйте в строки, пропущенные значения требуется также преобразовать в какие-либо строки, которые не являются категориями (например, 'NA'), полученный датафрейм назовите X_cat.\n",
        "\n",
        "Для объединения выборок здесь и далее в задании рекомендуется использовать функции\n",
        "\n",
        "    np.hstack(...)\n",
        "    np.vstack(...)"
      ]
    },
    {
      "cell_type": "code",
      "execution_count": 8,
      "metadata": {
        "id": "UIAVqpU_0lWr"
      },
      "outputs": [],
      "source": [
        "def calculate_means(numeric_data) -> pd.Series:\n",
        "    means = np.zeros(numeric_data.shape[1])\n",
        "    for j in range(numeric_data.shape[1]):\n",
        "        to_sum: pd.DataFrame = numeric_data.iloc[:,j]\n",
        "        means[j] = to_sum.mean();\n",
        "    return pd.Series(means, numeric_data.columns)"
      ]
    },
    {
      "cell_type": "code",
      "execution_count": 9,
      "metadata": {
        "id": "r3v-a3RD0lWr"
      },
      "outputs": [
        {
          "data": {
            "text/html": [
              "<div>\n",
              "<style scoped>\n",
              "    .dataframe tbody tr th:only-of-type {\n",
              "        vertical-align: middle;\n",
              "    }\n",
              "\n",
              "    .dataframe tbody tr th {\n",
              "        vertical-align: top;\n",
              "    }\n",
              "\n",
              "    .dataframe thead th {\n",
              "        text-align: right;\n",
              "    }\n",
              "</style>\n",
              "<table border=\"1\" class=\"dataframe\">\n",
              "  <thead>\n",
              "    <tr style=\"text-align: right;\">\n",
              "      <th></th>\n",
              "      <th>RFCD.Percentage.1</th>\n",
              "      <th>RFCD.Percentage.2</th>\n",
              "      <th>RFCD.Percentage.3</th>\n",
              "      <th>RFCD.Percentage.4</th>\n",
              "      <th>RFCD.Percentage.5</th>\n",
              "      <th>SEO.Percentage.1</th>\n",
              "      <th>SEO.Percentage.2</th>\n",
              "      <th>SEO.Percentage.3</th>\n",
              "      <th>SEO.Percentage.4</th>\n",
              "      <th>SEO.Percentage.5</th>\n",
              "      <th>Year.of.Birth.1</th>\n",
              "      <th>Number.of.Successful.Grant.1</th>\n",
              "      <th>Number.of.Unsuccessful.Grant.1</th>\n",
              "    </tr>\n",
              "  </thead>\n",
              "  <tbody>\n",
              "    <tr>\n",
              "      <th>0</th>\n",
              "      <td>50.0</td>\n",
              "      <td>30.0</td>\n",
              "      <td>20.0</td>\n",
              "      <td>0.0</td>\n",
              "      <td>0.0</td>\n",
              "      <td>100.0</td>\n",
              "      <td>0.0</td>\n",
              "      <td>0.0</td>\n",
              "      <td>0.0</td>\n",
              "      <td>0.0</td>\n",
              "      <td>1965.0</td>\n",
              "      <td>2.0</td>\n",
              "      <td>0.0</td>\n",
              "    </tr>\n",
              "    <tr>\n",
              "      <th>1</th>\n",
              "      <td>100.0</td>\n",
              "      <td>0.0</td>\n",
              "      <td>0.0</td>\n",
              "      <td>0.0</td>\n",
              "      <td>0.0</td>\n",
              "      <td>100.0</td>\n",
              "      <td>0.0</td>\n",
              "      <td>0.0</td>\n",
              "      <td>0.0</td>\n",
              "      <td>0.0</td>\n",
              "      <td>1965.0</td>\n",
              "      <td>3.0</td>\n",
              "      <td>1.0</td>\n",
              "    </tr>\n",
              "    <tr>\n",
              "      <th>2</th>\n",
              "      <td>50.0</td>\n",
              "      <td>30.0</td>\n",
              "      <td>20.0</td>\n",
              "      <td>0.0</td>\n",
              "      <td>0.0</td>\n",
              "      <td>60.0</td>\n",
              "      <td>20.0</td>\n",
              "      <td>20.0</td>\n",
              "      <td>0.0</td>\n",
              "      <td>0.0</td>\n",
              "      <td>1955.0</td>\n",
              "      <td>1.0</td>\n",
              "      <td>5.0</td>\n",
              "    </tr>\n",
              "    <tr>\n",
              "      <th>3</th>\n",
              "      <td>60.0</td>\n",
              "      <td>40.0</td>\n",
              "      <td>0.0</td>\n",
              "      <td>0.0</td>\n",
              "      <td>0.0</td>\n",
              "      <td>60.0</td>\n",
              "      <td>40.0</td>\n",
              "      <td>0.0</td>\n",
              "      <td>0.0</td>\n",
              "      <td>0.0</td>\n",
              "      <td>1950.0</td>\n",
              "      <td>2.0</td>\n",
              "      <td>1.0</td>\n",
              "    </tr>\n",
              "    <tr>\n",
              "      <th>4</th>\n",
              "      <td>100.0</td>\n",
              "      <td>0.0</td>\n",
              "      <td>0.0</td>\n",
              "      <td>0.0</td>\n",
              "      <td>0.0</td>\n",
              "      <td>50.0</td>\n",
              "      <td>50.0</td>\n",
              "      <td>0.0</td>\n",
              "      <td>0.0</td>\n",
              "      <td>0.0</td>\n",
              "      <td>1970.0</td>\n",
              "      <td>0.0</td>\n",
              "      <td>2.0</td>\n",
              "    </tr>\n",
              "    <tr>\n",
              "      <th>...</th>\n",
              "      <td>...</td>\n",
              "      <td>...</td>\n",
              "      <td>...</td>\n",
              "      <td>...</td>\n",
              "      <td>...</td>\n",
              "      <td>...</td>\n",
              "      <td>...</td>\n",
              "      <td>...</td>\n",
              "      <td>...</td>\n",
              "      <td>...</td>\n",
              "      <td>...</td>\n",
              "      <td>...</td>\n",
              "      <td>...</td>\n",
              "    </tr>\n",
              "    <tr>\n",
              "      <th>5995</th>\n",
              "      <td>50.0</td>\n",
              "      <td>30.0</td>\n",
              "      <td>20.0</td>\n",
              "      <td>0.0</td>\n",
              "      <td>0.0</td>\n",
              "      <td>50.0</td>\n",
              "      <td>30.0</td>\n",
              "      <td>20.0</td>\n",
              "      <td>0.0</td>\n",
              "      <td>0.0</td>\n",
              "      <td>1970.0</td>\n",
              "      <td>2.0</td>\n",
              "      <td>0.0</td>\n",
              "    </tr>\n",
              "    <tr>\n",
              "      <th>5996</th>\n",
              "      <td>0.0</td>\n",
              "      <td>0.0</td>\n",
              "      <td>0.0</td>\n",
              "      <td>0.0</td>\n",
              "      <td>0.0</td>\n",
              "      <td>0.0</td>\n",
              "      <td>0.0</td>\n",
              "      <td>0.0</td>\n",
              "      <td>0.0</td>\n",
              "      <td>0.0</td>\n",
              "      <td>1975.0</td>\n",
              "      <td>0.0</td>\n",
              "      <td>0.0</td>\n",
              "    </tr>\n",
              "    <tr>\n",
              "      <th>5997</th>\n",
              "      <td>40.0</td>\n",
              "      <td>40.0</td>\n",
              "      <td>20.0</td>\n",
              "      <td>0.0</td>\n",
              "      <td>0.0</td>\n",
              "      <td>40.0</td>\n",
              "      <td>40.0</td>\n",
              "      <td>20.0</td>\n",
              "      <td>0.0</td>\n",
              "      <td>0.0</td>\n",
              "      <td>1955.0</td>\n",
              "      <td>3.0</td>\n",
              "      <td>3.0</td>\n",
              "    </tr>\n",
              "    <tr>\n",
              "      <th>5998</th>\n",
              "      <td>0.0</td>\n",
              "      <td>0.0</td>\n",
              "      <td>0.0</td>\n",
              "      <td>0.0</td>\n",
              "      <td>0.0</td>\n",
              "      <td>0.0</td>\n",
              "      <td>0.0</td>\n",
              "      <td>0.0</td>\n",
              "      <td>0.0</td>\n",
              "      <td>0.0</td>\n",
              "      <td>1950.0</td>\n",
              "      <td>0.0</td>\n",
              "      <td>0.0</td>\n",
              "    </tr>\n",
              "    <tr>\n",
              "      <th>5999</th>\n",
              "      <td>100.0</td>\n",
              "      <td>0.0</td>\n",
              "      <td>0.0</td>\n",
              "      <td>0.0</td>\n",
              "      <td>0.0</td>\n",
              "      <td>95.0</td>\n",
              "      <td>5.0</td>\n",
              "      <td>0.0</td>\n",
              "      <td>0.0</td>\n",
              "      <td>0.0</td>\n",
              "      <td>1965.0</td>\n",
              "      <td>0.0</td>\n",
              "      <td>2.0</td>\n",
              "    </tr>\n",
              "  </tbody>\n",
              "</table>\n",
              "<p>6000 rows × 13 columns</p>\n",
              "</div>"
            ],
            "text/plain": [
              "      RFCD.Percentage.1  RFCD.Percentage.2  RFCD.Percentage.3  \\\n",
              "0                  50.0               30.0               20.0   \n",
              "1                 100.0                0.0                0.0   \n",
              "2                  50.0               30.0               20.0   \n",
              "3                  60.0               40.0                0.0   \n",
              "4                 100.0                0.0                0.0   \n",
              "...                 ...                ...                ...   \n",
              "5995               50.0               30.0               20.0   \n",
              "5996                0.0                0.0                0.0   \n",
              "5997               40.0               40.0               20.0   \n",
              "5998                0.0                0.0                0.0   \n",
              "5999              100.0                0.0                0.0   \n",
              "\n",
              "      RFCD.Percentage.4  RFCD.Percentage.5  SEO.Percentage.1  \\\n",
              "0                   0.0                0.0             100.0   \n",
              "1                   0.0                0.0             100.0   \n",
              "2                   0.0                0.0              60.0   \n",
              "3                   0.0                0.0              60.0   \n",
              "4                   0.0                0.0              50.0   \n",
              "...                 ...                ...               ...   \n",
              "5995                0.0                0.0              50.0   \n",
              "5996                0.0                0.0               0.0   \n",
              "5997                0.0                0.0              40.0   \n",
              "5998                0.0                0.0               0.0   \n",
              "5999                0.0                0.0              95.0   \n",
              "\n",
              "      SEO.Percentage.2  SEO.Percentage.3  SEO.Percentage.4  SEO.Percentage.5  \\\n",
              "0                  0.0               0.0               0.0               0.0   \n",
              "1                  0.0               0.0               0.0               0.0   \n",
              "2                 20.0              20.0               0.0               0.0   \n",
              "3                 40.0               0.0               0.0               0.0   \n",
              "4                 50.0               0.0               0.0               0.0   \n",
              "...                ...               ...               ...               ...   \n",
              "5995              30.0              20.0               0.0               0.0   \n",
              "5996               0.0               0.0               0.0               0.0   \n",
              "5997              40.0              20.0               0.0               0.0   \n",
              "5998               0.0               0.0               0.0               0.0   \n",
              "5999               5.0               0.0               0.0               0.0   \n",
              "\n",
              "      Year.of.Birth.1  Number.of.Successful.Grant.1  \\\n",
              "0              1965.0                           2.0   \n",
              "1              1965.0                           3.0   \n",
              "2              1955.0                           1.0   \n",
              "3              1950.0                           2.0   \n",
              "4              1970.0                           0.0   \n",
              "...               ...                           ...   \n",
              "5995           1970.0                           2.0   \n",
              "5996           1975.0                           0.0   \n",
              "5997           1955.0                           3.0   \n",
              "5998           1950.0                           0.0   \n",
              "5999           1965.0                           0.0   \n",
              "\n",
              "      Number.of.Unsuccessful.Grant.1  \n",
              "0                                0.0  \n",
              "1                                1.0  \n",
              "2                                5.0  \n",
              "3                                1.0  \n",
              "4                                2.0  \n",
              "...                              ...  \n",
              "5995                             0.0  \n",
              "5996                             0.0  \n",
              "5997                             3.0  \n",
              "5998                             0.0  \n",
              "5999                             2.0  \n",
              "\n",
              "[6000 rows x 13 columns]"
            ]
          },
          "execution_count": 9,
          "metadata": {},
          "output_type": "execute_result"
        }
      ],
      "source": [
        "X_real_zeros = X[numeric_cols].fillna(0)\n",
        "X_real_zeros"
      ]
    },
    {
      "cell_type": "code",
      "execution_count": 10,
      "metadata": {},
      "outputs": [
        {
          "data": {
            "text/plain": [
              "RFCD.Percentage.1                   74.832348\n",
              "RFCD.Percentage.2                   17.677593\n",
              "RFCD.Percentage.3                    6.933011\n",
              "RFCD.Percentage.4                    0.437937\n",
              "RFCD.Percentage.5                    0.119112\n",
              "SEO.Percentage.1                    71.483240\n",
              "SEO.Percentage.2                    20.646880\n",
              "SEO.Percentage.3                     6.926704\n",
              "SEO.Percentage.4                     0.730804\n",
              "SEO.Percentage.5                     0.212192\n",
              "Year.of.Birth.1                   1962.449849\n",
              "Number.of.Successful.Grant.1         1.177849\n",
              "Number.of.Unsuccessful.Grant.1       2.097977\n",
              "dtype: float64"
            ]
          },
          "execution_count": 10,
          "metadata": {},
          "output_type": "execute_result"
        }
      ],
      "source": [
        "calculate_means(X[numeric_cols])"
      ]
    },
    {
      "cell_type": "code",
      "execution_count": 11,
      "metadata": {},
      "outputs": [
        {
          "data": {
            "text/html": [
              "<div>\n",
              "<style scoped>\n",
              "    .dataframe tbody tr th:only-of-type {\n",
              "        vertical-align: middle;\n",
              "    }\n",
              "\n",
              "    .dataframe tbody tr th {\n",
              "        vertical-align: top;\n",
              "    }\n",
              "\n",
              "    .dataframe thead th {\n",
              "        text-align: right;\n",
              "    }\n",
              "</style>\n",
              "<table border=\"1\" class=\"dataframe\">\n",
              "  <thead>\n",
              "    <tr style=\"text-align: right;\">\n",
              "      <th></th>\n",
              "      <th>RFCD.Percentage.1</th>\n",
              "      <th>RFCD.Percentage.2</th>\n",
              "      <th>RFCD.Percentage.3</th>\n",
              "      <th>RFCD.Percentage.4</th>\n",
              "      <th>RFCD.Percentage.5</th>\n",
              "      <th>SEO.Percentage.1</th>\n",
              "      <th>SEO.Percentage.2</th>\n",
              "      <th>SEO.Percentage.3</th>\n",
              "      <th>SEO.Percentage.4</th>\n",
              "      <th>SEO.Percentage.5</th>\n",
              "      <th>Year.of.Birth.1</th>\n",
              "      <th>Number.of.Successful.Grant.1</th>\n",
              "      <th>Number.of.Unsuccessful.Grant.1</th>\n",
              "    </tr>\n",
              "  </thead>\n",
              "  <tbody>\n",
              "    <tr>\n",
              "      <th>0</th>\n",
              "      <td>50.000000</td>\n",
              "      <td>30.000000</td>\n",
              "      <td>20.000000</td>\n",
              "      <td>0.000000</td>\n",
              "      <td>0.000000</td>\n",
              "      <td>100.00000</td>\n",
              "      <td>0.00000</td>\n",
              "      <td>0.000000</td>\n",
              "      <td>0.000000</td>\n",
              "      <td>0.000000</td>\n",
              "      <td>1965.0</td>\n",
              "      <td>2.0</td>\n",
              "      <td>0.0</td>\n",
              "    </tr>\n",
              "    <tr>\n",
              "      <th>1</th>\n",
              "      <td>100.000000</td>\n",
              "      <td>0.000000</td>\n",
              "      <td>0.000000</td>\n",
              "      <td>0.000000</td>\n",
              "      <td>0.000000</td>\n",
              "      <td>100.00000</td>\n",
              "      <td>0.00000</td>\n",
              "      <td>0.000000</td>\n",
              "      <td>0.000000</td>\n",
              "      <td>0.000000</td>\n",
              "      <td>1965.0</td>\n",
              "      <td>3.0</td>\n",
              "      <td>1.0</td>\n",
              "    </tr>\n",
              "    <tr>\n",
              "      <th>2</th>\n",
              "      <td>50.000000</td>\n",
              "      <td>30.000000</td>\n",
              "      <td>20.000000</td>\n",
              "      <td>0.000000</td>\n",
              "      <td>0.000000</td>\n",
              "      <td>60.00000</td>\n",
              "      <td>20.00000</td>\n",
              "      <td>20.000000</td>\n",
              "      <td>0.000000</td>\n",
              "      <td>0.000000</td>\n",
              "      <td>1955.0</td>\n",
              "      <td>1.0</td>\n",
              "      <td>5.0</td>\n",
              "    </tr>\n",
              "    <tr>\n",
              "      <th>3</th>\n",
              "      <td>60.000000</td>\n",
              "      <td>40.000000</td>\n",
              "      <td>0.000000</td>\n",
              "      <td>0.000000</td>\n",
              "      <td>0.000000</td>\n",
              "      <td>60.00000</td>\n",
              "      <td>40.00000</td>\n",
              "      <td>0.000000</td>\n",
              "      <td>0.000000</td>\n",
              "      <td>0.000000</td>\n",
              "      <td>1950.0</td>\n",
              "      <td>2.0</td>\n",
              "      <td>1.0</td>\n",
              "    </tr>\n",
              "    <tr>\n",
              "      <th>4</th>\n",
              "      <td>100.000000</td>\n",
              "      <td>0.000000</td>\n",
              "      <td>0.000000</td>\n",
              "      <td>0.000000</td>\n",
              "      <td>0.000000</td>\n",
              "      <td>50.00000</td>\n",
              "      <td>50.00000</td>\n",
              "      <td>0.000000</td>\n",
              "      <td>0.000000</td>\n",
              "      <td>0.000000</td>\n",
              "      <td>1970.0</td>\n",
              "      <td>0.0</td>\n",
              "      <td>2.0</td>\n",
              "    </tr>\n",
              "    <tr>\n",
              "      <th>...</th>\n",
              "      <td>...</td>\n",
              "      <td>...</td>\n",
              "      <td>...</td>\n",
              "      <td>...</td>\n",
              "      <td>...</td>\n",
              "      <td>...</td>\n",
              "      <td>...</td>\n",
              "      <td>...</td>\n",
              "      <td>...</td>\n",
              "      <td>...</td>\n",
              "      <td>...</td>\n",
              "      <td>...</td>\n",
              "      <td>...</td>\n",
              "    </tr>\n",
              "    <tr>\n",
              "      <th>5995</th>\n",
              "      <td>50.000000</td>\n",
              "      <td>30.000000</td>\n",
              "      <td>20.000000</td>\n",
              "      <td>0.000000</td>\n",
              "      <td>0.000000</td>\n",
              "      <td>50.00000</td>\n",
              "      <td>30.00000</td>\n",
              "      <td>20.000000</td>\n",
              "      <td>0.000000</td>\n",
              "      <td>0.000000</td>\n",
              "      <td>1970.0</td>\n",
              "      <td>2.0</td>\n",
              "      <td>0.0</td>\n",
              "    </tr>\n",
              "    <tr>\n",
              "      <th>5996</th>\n",
              "      <td>74.832348</td>\n",
              "      <td>17.677593</td>\n",
              "      <td>6.933011</td>\n",
              "      <td>0.437937</td>\n",
              "      <td>0.119112</td>\n",
              "      <td>71.48324</td>\n",
              "      <td>20.64688</td>\n",
              "      <td>6.926704</td>\n",
              "      <td>0.730804</td>\n",
              "      <td>0.212192</td>\n",
              "      <td>1975.0</td>\n",
              "      <td>0.0</td>\n",
              "      <td>0.0</td>\n",
              "    </tr>\n",
              "    <tr>\n",
              "      <th>5997</th>\n",
              "      <td>40.000000</td>\n",
              "      <td>40.000000</td>\n",
              "      <td>20.000000</td>\n",
              "      <td>0.000000</td>\n",
              "      <td>0.000000</td>\n",
              "      <td>40.00000</td>\n",
              "      <td>40.00000</td>\n",
              "      <td>20.000000</td>\n",
              "      <td>0.000000</td>\n",
              "      <td>0.000000</td>\n",
              "      <td>1955.0</td>\n",
              "      <td>3.0</td>\n",
              "      <td>3.0</td>\n",
              "    </tr>\n",
              "    <tr>\n",
              "      <th>5998</th>\n",
              "      <td>74.832348</td>\n",
              "      <td>17.677593</td>\n",
              "      <td>6.933011</td>\n",
              "      <td>0.437937</td>\n",
              "      <td>0.119112</td>\n",
              "      <td>71.48324</td>\n",
              "      <td>20.64688</td>\n",
              "      <td>6.926704</td>\n",
              "      <td>0.730804</td>\n",
              "      <td>0.212192</td>\n",
              "      <td>1950.0</td>\n",
              "      <td>0.0</td>\n",
              "      <td>0.0</td>\n",
              "    </tr>\n",
              "    <tr>\n",
              "      <th>5999</th>\n",
              "      <td>100.000000</td>\n",
              "      <td>0.000000</td>\n",
              "      <td>0.000000</td>\n",
              "      <td>0.000000</td>\n",
              "      <td>0.000000</td>\n",
              "      <td>95.00000</td>\n",
              "      <td>5.00000</td>\n",
              "      <td>0.000000</td>\n",
              "      <td>0.000000</td>\n",
              "      <td>0.000000</td>\n",
              "      <td>1965.0</td>\n",
              "      <td>0.0</td>\n",
              "      <td>2.0</td>\n",
              "    </tr>\n",
              "  </tbody>\n",
              "</table>\n",
              "<p>6000 rows × 13 columns</p>\n",
              "</div>"
            ],
            "text/plain": [
              "      RFCD.Percentage.1  RFCD.Percentage.2  RFCD.Percentage.3  \\\n",
              "0             50.000000          30.000000          20.000000   \n",
              "1            100.000000           0.000000           0.000000   \n",
              "2             50.000000          30.000000          20.000000   \n",
              "3             60.000000          40.000000           0.000000   \n",
              "4            100.000000           0.000000           0.000000   \n",
              "...                 ...                ...                ...   \n",
              "5995          50.000000          30.000000          20.000000   \n",
              "5996          74.832348          17.677593           6.933011   \n",
              "5997          40.000000          40.000000          20.000000   \n",
              "5998          74.832348          17.677593           6.933011   \n",
              "5999         100.000000           0.000000           0.000000   \n",
              "\n",
              "      RFCD.Percentage.4  RFCD.Percentage.5  SEO.Percentage.1  \\\n",
              "0              0.000000           0.000000         100.00000   \n",
              "1              0.000000           0.000000         100.00000   \n",
              "2              0.000000           0.000000          60.00000   \n",
              "3              0.000000           0.000000          60.00000   \n",
              "4              0.000000           0.000000          50.00000   \n",
              "...                 ...                ...               ...   \n",
              "5995           0.000000           0.000000          50.00000   \n",
              "5996           0.437937           0.119112          71.48324   \n",
              "5997           0.000000           0.000000          40.00000   \n",
              "5998           0.437937           0.119112          71.48324   \n",
              "5999           0.000000           0.000000          95.00000   \n",
              "\n",
              "      SEO.Percentage.2  SEO.Percentage.3  SEO.Percentage.4  SEO.Percentage.5  \\\n",
              "0              0.00000          0.000000          0.000000          0.000000   \n",
              "1              0.00000          0.000000          0.000000          0.000000   \n",
              "2             20.00000         20.000000          0.000000          0.000000   \n",
              "3             40.00000          0.000000          0.000000          0.000000   \n",
              "4             50.00000          0.000000          0.000000          0.000000   \n",
              "...                ...               ...               ...               ...   \n",
              "5995          30.00000         20.000000          0.000000          0.000000   \n",
              "5996          20.64688          6.926704          0.730804          0.212192   \n",
              "5997          40.00000         20.000000          0.000000          0.000000   \n",
              "5998          20.64688          6.926704          0.730804          0.212192   \n",
              "5999           5.00000          0.000000          0.000000          0.000000   \n",
              "\n",
              "      Year.of.Birth.1  Number.of.Successful.Grant.1  \\\n",
              "0              1965.0                           2.0   \n",
              "1              1965.0                           3.0   \n",
              "2              1955.0                           1.0   \n",
              "3              1950.0                           2.0   \n",
              "4              1970.0                           0.0   \n",
              "...               ...                           ...   \n",
              "5995           1970.0                           2.0   \n",
              "5996           1975.0                           0.0   \n",
              "5997           1955.0                           3.0   \n",
              "5998           1950.0                           0.0   \n",
              "5999           1965.0                           0.0   \n",
              "\n",
              "      Number.of.Unsuccessful.Grant.1  \n",
              "0                                0.0  \n",
              "1                                1.0  \n",
              "2                                5.0  \n",
              "3                                1.0  \n",
              "4                                2.0  \n",
              "...                              ...  \n",
              "5995                             0.0  \n",
              "5996                             0.0  \n",
              "5997                             3.0  \n",
              "5998                             0.0  \n",
              "5999                             2.0  \n",
              "\n",
              "[6000 rows x 13 columns]"
            ]
          },
          "execution_count": 11,
          "metadata": {},
          "output_type": "execute_result"
        }
      ],
      "source": [
        "X_real_mean = X[numeric_cols]\n",
        "\n",
        "for i, value in calculate_means(X[numeric_cols]).to_dict().items():\n",
        "    X_real_mean[[i]] = X_real_mean[[i]].fillna(value)\n",
        "\n",
        "X_real_mean"
      ]
    },
    {
      "cell_type": "code",
      "execution_count": 12,
      "metadata": {},
      "outputs": [
        {
          "data": {
            "text/html": [
              "<div>\n",
              "<style scoped>\n",
              "    .dataframe tbody tr th:only-of-type {\n",
              "        vertical-align: middle;\n",
              "    }\n",
              "\n",
              "    .dataframe tbody tr th {\n",
              "        vertical-align: top;\n",
              "    }\n",
              "\n",
              "    .dataframe thead th {\n",
              "        text-align: right;\n",
              "    }\n",
              "</style>\n",
              "<table border=\"1\" class=\"dataframe\">\n",
              "  <thead>\n",
              "    <tr style=\"text-align: right;\">\n",
              "      <th></th>\n",
              "      <th>Country.of.Birth.1</th>\n",
              "      <th>RFCD.Code.1</th>\n",
              "      <th>RFCD.Code.4</th>\n",
              "      <th>C.1</th>\n",
              "      <th>SEO.Code.3</th>\n",
              "      <th>Grant.Category.Code</th>\n",
              "      <th>RFCD.Code.2</th>\n",
              "      <th>RFCD.Code.5</th>\n",
              "      <th>B.1</th>\n",
              "      <th>Contract.Value.Band...see.note.A</th>\n",
              "      <th>...</th>\n",
              "      <th>No..of.Years.in.Uni.at.Time.of.Grant.1</th>\n",
              "      <th>SEO.Code.5</th>\n",
              "      <th>RFCD.Code.3</th>\n",
              "      <th>A.1</th>\n",
              "      <th>SEO.Code.1</th>\n",
              "      <th>Person.ID.1</th>\n",
              "      <th>Sponsor.Code</th>\n",
              "      <th>A..1</th>\n",
              "      <th>Home.Language.1</th>\n",
              "      <th>SEO.Code.2</th>\n",
              "    </tr>\n",
              "  </thead>\n",
              "  <tbody>\n",
              "    <tr>\n",
              "      <th>0</th>\n",
              "      <td>Australia</td>\n",
              "      <td>230202.0</td>\n",
              "      <td>0.0</td>\n",
              "      <td>0.0</td>\n",
              "      <td>0.0</td>\n",
              "      <td>50A</td>\n",
              "      <td>230203.0</td>\n",
              "      <td>0.0</td>\n",
              "      <td>2.0</td>\n",
              "      <td>A</td>\n",
              "      <td>...</td>\n",
              "      <td>&gt;=0 to 5</td>\n",
              "      <td>0.0</td>\n",
              "      <td>230204.0</td>\n",
              "      <td>4.0</td>\n",
              "      <td>780101.0</td>\n",
              "      <td>493297.0</td>\n",
              "      <td>21A</td>\n",
              "      <td>0.0</td>\n",
              "      <td>Unknown</td>\n",
              "      <td>0.0</td>\n",
              "    </tr>\n",
              "    <tr>\n",
              "      <th>1</th>\n",
              "      <td>Australia</td>\n",
              "      <td>320801.0</td>\n",
              "      <td>0.0</td>\n",
              "      <td>0.0</td>\n",
              "      <td>0.0</td>\n",
              "      <td>10A</td>\n",
              "      <td>0.0</td>\n",
              "      <td>0.0</td>\n",
              "      <td>0.0</td>\n",
              "      <td>D</td>\n",
              "      <td>...</td>\n",
              "      <td>&gt;=0 to 5</td>\n",
              "      <td>0.0</td>\n",
              "      <td>0.0</td>\n",
              "      <td>2.0</td>\n",
              "      <td>730112.0</td>\n",
              "      <td>330592.0</td>\n",
              "      <td>4D</td>\n",
              "      <td>0.0</td>\n",
              "      <td>Unknown</td>\n",
              "      <td>0.0</td>\n",
              "    </tr>\n",
              "    <tr>\n",
              "      <th>2</th>\n",
              "      <td>Australia</td>\n",
              "      <td>320602.0</td>\n",
              "      <td>0.0</td>\n",
              "      <td>0.0</td>\n",
              "      <td>730108.0</td>\n",
              "      <td>Unknown</td>\n",
              "      <td>321004.0</td>\n",
              "      <td>0.0</td>\n",
              "      <td>2.0</td>\n",
              "      <td>Unknown</td>\n",
              "      <td>...</td>\n",
              "      <td>Less than 0</td>\n",
              "      <td>0.0</td>\n",
              "      <td>321015.0</td>\n",
              "      <td>7.0</td>\n",
              "      <td>730203.0</td>\n",
              "      <td>66887.0</td>\n",
              "      <td>Unknown</td>\n",
              "      <td>0.0</td>\n",
              "      <td>Unknown</td>\n",
              "      <td>730105.0</td>\n",
              "    </tr>\n",
              "    <tr>\n",
              "      <th>3</th>\n",
              "      <td>Great Britain</td>\n",
              "      <td>291503.0</td>\n",
              "      <td>0.0</td>\n",
              "      <td>1.0</td>\n",
              "      <td>0.0</td>\n",
              "      <td>20C</td>\n",
              "      <td>321402.0</td>\n",
              "      <td>0.0</td>\n",
              "      <td>9.0</td>\n",
              "      <td>A</td>\n",
              "      <td>...</td>\n",
              "      <td>more than 15</td>\n",
              "      <td>0.0</td>\n",
              "      <td>0.0</td>\n",
              "      <td>6.0</td>\n",
              "      <td>730114.0</td>\n",
              "      <td>63812.0</td>\n",
              "      <td>51C</td>\n",
              "      <td>5.0</td>\n",
              "      <td>Unknown</td>\n",
              "      <td>671401.0</td>\n",
              "    </tr>\n",
              "    <tr>\n",
              "      <th>4</th>\n",
              "      <td>Australia</td>\n",
              "      <td>380107.0</td>\n",
              "      <td>0.0</td>\n",
              "      <td>0.0</td>\n",
              "      <td>0.0</td>\n",
              "      <td>30B</td>\n",
              "      <td>0.0</td>\n",
              "      <td>0.0</td>\n",
              "      <td>0.0</td>\n",
              "      <td>Unknown</td>\n",
              "      <td>...</td>\n",
              "      <td>Less than 0</td>\n",
              "      <td>0.0</td>\n",
              "      <td>0.0</td>\n",
              "      <td>0.0</td>\n",
              "      <td>730108.0</td>\n",
              "      <td>13687.0</td>\n",
              "      <td>24D</td>\n",
              "      <td>0.0</td>\n",
              "      <td>Unknown</td>\n",
              "      <td>730306.0</td>\n",
              "    </tr>\n",
              "    <tr>\n",
              "      <th>...</th>\n",
              "      <td>...</td>\n",
              "      <td>...</td>\n",
              "      <td>...</td>\n",
              "      <td>...</td>\n",
              "      <td>...</td>\n",
              "      <td>...</td>\n",
              "      <td>...</td>\n",
              "      <td>...</td>\n",
              "      <td>...</td>\n",
              "      <td>...</td>\n",
              "      <td>...</td>\n",
              "      <td>...</td>\n",
              "      <td>...</td>\n",
              "      <td>...</td>\n",
              "      <td>...</td>\n",
              "      <td>...</td>\n",
              "      <td>...</td>\n",
              "      <td>...</td>\n",
              "      <td>...</td>\n",
              "      <td>...</td>\n",
              "      <td>...</td>\n",
              "    </tr>\n",
              "    <tr>\n",
              "      <th>5995</th>\n",
              "      <td>Australia</td>\n",
              "      <td>430102.0</td>\n",
              "      <td>0.0</td>\n",
              "      <td>0.0</td>\n",
              "      <td>750401.0</td>\n",
              "      <td>50A</td>\n",
              "      <td>440207.0</td>\n",
              "      <td>0.0</td>\n",
              "      <td>0.0</td>\n",
              "      <td>Unknown</td>\n",
              "      <td>...</td>\n",
              "      <td>&gt;=0 to 5</td>\n",
              "      <td>0.0</td>\n",
              "      <td>379999.0</td>\n",
              "      <td>1.0</td>\n",
              "      <td>750902.0</td>\n",
              "      <td>10402.0</td>\n",
              "      <td>21A</td>\n",
              "      <td>1.0</td>\n",
              "      <td>Unknown</td>\n",
              "      <td>750702.0</td>\n",
              "    </tr>\n",
              "    <tr>\n",
              "      <th>5996</th>\n",
              "      <td>Unknown</td>\n",
              "      <td>Unknown</td>\n",
              "      <td>Unknown</td>\n",
              "      <td>0.0</td>\n",
              "      <td>Unknown</td>\n",
              "      <td>10A</td>\n",
              "      <td>Unknown</td>\n",
              "      <td>Unknown</td>\n",
              "      <td>0.0</td>\n",
              "      <td>Unknown</td>\n",
              "      <td>...</td>\n",
              "      <td>Unknown</td>\n",
              "      <td>Unknown</td>\n",
              "      <td>Unknown</td>\n",
              "      <td>1.0</td>\n",
              "      <td>Unknown</td>\n",
              "      <td>102602.0</td>\n",
              "      <td>163C</td>\n",
              "      <td>0.0</td>\n",
              "      <td>Unknown</td>\n",
              "      <td>Unknown</td>\n",
              "    </tr>\n",
              "    <tr>\n",
              "      <th>5997</th>\n",
              "      <td>Australia</td>\n",
              "      <td>321204.0</td>\n",
              "      <td>0.0</td>\n",
              "      <td>5.0</td>\n",
              "      <td>730204.0</td>\n",
              "      <td>30C</td>\n",
              "      <td>321208.0</td>\n",
              "      <td>0.0</td>\n",
              "      <td>2.0</td>\n",
              "      <td>A</td>\n",
              "      <td>...</td>\n",
              "      <td>&gt;10 to 15</td>\n",
              "      <td>0.0</td>\n",
              "      <td>321210.0</td>\n",
              "      <td>2.0</td>\n",
              "      <td>730201.0</td>\n",
              "      <td>68587.0</td>\n",
              "      <td>112D</td>\n",
              "      <td>2.0</td>\n",
              "      <td>Unknown</td>\n",
              "      <td>730211.0</td>\n",
              "    </tr>\n",
              "    <tr>\n",
              "      <th>5998</th>\n",
              "      <td>Australia</td>\n",
              "      <td>Unknown</td>\n",
              "      <td>Unknown</td>\n",
              "      <td>2.0</td>\n",
              "      <td>Unknown</td>\n",
              "      <td>Unknown</td>\n",
              "      <td>Unknown</td>\n",
              "      <td>Unknown</td>\n",
              "      <td>1.0</td>\n",
              "      <td>A</td>\n",
              "      <td>...</td>\n",
              "      <td>Less than 0</td>\n",
              "      <td>Unknown</td>\n",
              "      <td>Unknown</td>\n",
              "      <td>0.0</td>\n",
              "      <td>Unknown</td>\n",
              "      <td>16757.0</td>\n",
              "      <td>Unknown</td>\n",
              "      <td>0.0</td>\n",
              "      <td>Unknown</td>\n",
              "      <td>Unknown</td>\n",
              "    </tr>\n",
              "    <tr>\n",
              "      <th>5999</th>\n",
              "      <td>Australia</td>\n",
              "      <td>321029.0</td>\n",
              "      <td>0.0</td>\n",
              "      <td>1.0</td>\n",
              "      <td>0.0</td>\n",
              "      <td>10A</td>\n",
              "      <td>0.0</td>\n",
              "      <td>0.0</td>\n",
              "      <td>2.0</td>\n",
              "      <td>Unknown</td>\n",
              "      <td>...</td>\n",
              "      <td>&gt;5 to 10</td>\n",
              "      <td>0.0</td>\n",
              "      <td>0.0</td>\n",
              "      <td>0.0</td>\n",
              "      <td>730109.0</td>\n",
              "      <td>34537.0</td>\n",
              "      <td>4D</td>\n",
              "      <td>0.0</td>\n",
              "      <td>Unknown</td>\n",
              "      <td>671402.0</td>\n",
              "    </tr>\n",
              "  </tbody>\n",
              "</table>\n",
              "<p>6000 rows × 25 columns</p>\n",
              "</div>"
            ],
            "text/plain": [
              "     Country.of.Birth.1 RFCD.Code.1 RFCD.Code.4  C.1 SEO.Code.3  \\\n",
              "0             Australia    230202.0         0.0  0.0        0.0   \n",
              "1             Australia    320801.0         0.0  0.0        0.0   \n",
              "2             Australia    320602.0         0.0  0.0   730108.0   \n",
              "3         Great Britain    291503.0         0.0  1.0        0.0   \n",
              "4             Australia    380107.0         0.0  0.0        0.0   \n",
              "...                 ...         ...         ...  ...        ...   \n",
              "5995          Australia    430102.0         0.0  0.0   750401.0   \n",
              "5996            Unknown     Unknown     Unknown  0.0    Unknown   \n",
              "5997          Australia    321204.0         0.0  5.0   730204.0   \n",
              "5998          Australia     Unknown     Unknown  2.0    Unknown   \n",
              "5999          Australia    321029.0         0.0  1.0        0.0   \n",
              "\n",
              "     Grant.Category.Code RFCD.Code.2 RFCD.Code.5  B.1  \\\n",
              "0                    50A    230203.0         0.0  2.0   \n",
              "1                    10A         0.0         0.0  0.0   \n",
              "2                Unknown    321004.0         0.0  2.0   \n",
              "3                    20C    321402.0         0.0  9.0   \n",
              "4                    30B         0.0         0.0  0.0   \n",
              "...                  ...         ...         ...  ...   \n",
              "5995                 50A    440207.0         0.0  0.0   \n",
              "5996                 10A     Unknown     Unknown  0.0   \n",
              "5997                 30C    321208.0         0.0  2.0   \n",
              "5998             Unknown     Unknown     Unknown  1.0   \n",
              "5999                 10A         0.0         0.0  2.0   \n",
              "\n",
              "     Contract.Value.Band...see.note.A  ...  \\\n",
              "0                                  A   ...   \n",
              "1                                  D   ...   \n",
              "2                             Unknown  ...   \n",
              "3                                  A   ...   \n",
              "4                             Unknown  ...   \n",
              "...                               ...  ...   \n",
              "5995                          Unknown  ...   \n",
              "5996                          Unknown  ...   \n",
              "5997                               A   ...   \n",
              "5998                               A   ...   \n",
              "5999                          Unknown  ...   \n",
              "\n",
              "     No..of.Years.in.Uni.at.Time.of.Grant.1 SEO.Code.5 RFCD.Code.3  A.1  \\\n",
              "0                                  >=0 to 5        0.0    230204.0  4.0   \n",
              "1                                  >=0 to 5        0.0         0.0  2.0   \n",
              "2                               Less than 0        0.0    321015.0  7.0   \n",
              "3                              more than 15        0.0         0.0  6.0   \n",
              "4                               Less than 0        0.0         0.0  0.0   \n",
              "...                                     ...        ...         ...  ...   \n",
              "5995                               >=0 to 5        0.0    379999.0  1.0   \n",
              "5996                                Unknown    Unknown     Unknown  1.0   \n",
              "5997                              >10 to 15        0.0    321210.0  2.0   \n",
              "5998                            Less than 0    Unknown     Unknown  0.0   \n",
              "5999                               >5 to 10        0.0         0.0  0.0   \n",
              "\n",
              "     SEO.Code.1 Person.ID.1 Sponsor.Code A..1 Home.Language.1 SEO.Code.2  \n",
              "0      780101.0    493297.0          21A  0.0         Unknown        0.0  \n",
              "1      730112.0    330592.0           4D  0.0         Unknown        0.0  \n",
              "2      730203.0     66887.0      Unknown  0.0         Unknown   730105.0  \n",
              "3      730114.0     63812.0          51C  5.0         Unknown   671401.0  \n",
              "4      730108.0     13687.0          24D  0.0         Unknown   730306.0  \n",
              "...         ...         ...          ...  ...             ...        ...  \n",
              "5995   750902.0     10402.0          21A  1.0         Unknown   750702.0  \n",
              "5996    Unknown    102602.0         163C  0.0         Unknown    Unknown  \n",
              "5997   730201.0     68587.0         112D  2.0         Unknown   730211.0  \n",
              "5998    Unknown     16757.0      Unknown  0.0         Unknown    Unknown  \n",
              "5999   730109.0     34537.0           4D  0.0         Unknown   671402.0  \n",
              "\n",
              "[6000 rows x 25 columns]"
            ]
          },
          "execution_count": 12,
          "metadata": {},
          "output_type": "execute_result"
        }
      ],
      "source": [
        "X_cat = X[categorical_cols].fillna(\"Unknown\")\n",
        "X_cat"
      ]
    },
    {
      "cell_type": "markdown",
      "metadata": {
        "id": "GaXQzbHC0lWr"
      },
      "source": [
        "## Преобразование категориальных признаков."
      ]
    },
    {
      "cell_type": "markdown",
      "metadata": {
        "id": "MtvbX4jN0lWr"
      },
      "source": [
        "В предыдущей ячейке мы разделили наш датасет ещё на две части: в одной присутствуют только вещественные признаки, в другой только категориальные. Это понадобится нам для раздельной последующей обработке этих данных, а так же для сравнения качества работы тех или иных методов.\n",
        "\n",
        "Для использования модели регрессии требуется преобразовать категориальные признаки в вещественные. Рассмотрим основной способ преоборазования категориальных признаков в вещественные: one-hot encoding. Его идея заключается в том, что мы преобразуем категориальный признак при помощи бинарного кода: каждой категории ставим в соответствие набор из нулей и единиц.\n",
        "\n",
        "Посмотрим, как данный метод работает на простом наборе данных."
      ]
    },
    {
      "cell_type": "code",
      "execution_count": 13,
      "metadata": {
        "id": "LLmjRvIr0lWs"
      },
      "outputs": [
        {
          "name": "stdout",
          "output_type": "stream",
          "text": [
            "Исходные данные:\n",
            "\n",
            "      sex nationality\n",
            "0    male    American\n",
            "1  female    European\n",
            "2    male       Asian\n",
            "3  female    European\n",
            "\n",
            "Закодированные данные:\n",
            "\n",
            "[[1. 0. 0. 0. 1.]\n",
            " [0. 0. 1. 1. 0.]\n",
            " [0. 1. 0. 0. 1.]\n",
            " [0. 0. 1. 1. 0.]]\n"
          ]
        }
      ],
      "source": [
        "from sklearn.linear_model import LogisticRegression as LR\n",
        "from sklearn.feature_extraction import DictVectorizer as DV\n",
        "\n",
        "categorial_data = pd.DataFrame({'sex': ['male', 'female', 'male', 'female'], \n",
        "                                'nationality': ['American', 'European', 'Asian', 'European']})\n",
        "print('Исходные данные:\\n')\n",
        "print(categorial_data)\n",
        "encoder = DV(sparse = False)\n",
        "encoded_data = encoder.fit_transform(categorial_data.T.to_dict().values())\n",
        "print('\\nЗакодированные данные:\\n')\n",
        "print(encoded_data)"
      ]
    },
    {
      "cell_type": "markdown",
      "metadata": {
        "id": "PAepcROg0lWs"
      },
      "source": [
        "Как видно, в первые три колонки оказалась закодированна информация о стране, а во вторые две - о поле. При этом для совпадающих элементов выборки строки будут полностью совпадать. Также из примера видно, что кодирование признаков сильно увеличивает их количество, но полностью сохраняет информацию, в том числе о наличии пропущенных значений (их наличие просто становится одним из бинарных признаков в преобразованных данных).\n",
        "\n",
        "Теперь применим one-hot encoding к категориальным признакам из исходного датасета. Обратите внимание на общий для всех методов преобработки данных интерфейс. Функция\n",
        "\n",
        "    encoder.fit_transform(X)\n",
        "    \n",
        "позволяет вычислить необходимые параметры преобразования, впоследствии к новым данным можно уже применять функцию\n",
        "\n",
        "    encoder.transform(X)\n",
        "    \n",
        "Очень важно применять одинаковое преобразование как к обучающим, так и тестовым данным, потому что в противном случае вы получите непредсказуемые, и, скорее всего, плохие результаты. В частности, если вы отдельно закодируете обучающую и тестовую выборку, то получите вообще говоря разные коды для одних и тех же признаков, и ваше решение работать не будет.\n",
        "\n",
        "Также параметры многих преобразований (например, рассмотренное ниже масштабирование) нельзя вычислять одновременно на данных из обучения и теста, потому что иначе подсчитанные на тесте метрики качества будут давать смещённые оценки на качество работы алгоритма. Кодирование категориальных признаков не считает на обучающей выборке никаких параметров, поэтому его можно применять сразу к всему датасету."
      ]
    },
    {
      "cell_type": "code",
      "execution_count": 14,
      "metadata": {
        "id": "pP6i7O570lWt"
      },
      "outputs": [
        {
          "data": {
            "text/plain": [
              "(6000, 351)"
            ]
          },
          "execution_count": 14,
          "metadata": {},
          "output_type": "execute_result"
        }
      ],
      "source": [
        "encoder = DV(sparse = False)\n",
        "X_cat_oh = encoder.fit_transform(X_cat.T.to_dict().values())\n",
        "X_cat_oh.shape"
      ]
    },
    {
      "cell_type": "markdown",
      "metadata": {
        "id": "iFo72PU60lWt"
      },
      "source": [
        "Для построения метрики качества по результату обучения требуется разделить исходный датасет на обучающую и тестовую выборки.\n",
        "\n",
        "Обращаем внимание на заданный параметр для генератора случайных чисел: random_state. Так как результаты на обучении и тесте будут зависеть от того, как именно вы разделите объекты, то предлагается использовать заранее определённое значение для получение результатов, согласованных с ответами в системе проверки заданий."
      ]
    },
    {
      "cell_type": "code",
      "execution_count": 15,
      "metadata": {
        "id": "bIpL-q0o0lWu"
      },
      "outputs": [],
      "source": [
        "from sklearn.model_selection import train_test_split\n",
        "\n",
        "(X_train_real_zeros, \n",
        " X_test_real_zeros, \n",
        " y_train, y_test) = train_test_split(X_real_zeros, Y, \n",
        "                                     test_size=0.3, \n",
        "                                     random_state=0)\n",
        "(X_train_real_mean, \n",
        " X_test_real_mean) = train_test_split(X_real_mean, \n",
        "                                      test_size=0.3, \n",
        "                                      random_state=0)\n",
        "(X_train_cat_oh,\n",
        " X_test_cat_oh) = train_test_split(X_cat_oh, \n",
        "                                   test_size=0.3, \n",
        "                                   random_state=0)"
      ]
    },
    {
      "cell_type": "markdown",
      "metadata": {
        "id": "YhC-PC_S0lWu"
      },
      "source": [
        "## Описание классов"
      ]
    },
    {
      "cell_type": "markdown",
      "metadata": {
        "id": "MdU3TeC90lWv"
      },
      "source": [
        "Итак, мы получили первые наборы данных, для которых выполнены оба ограничения логистической регрессии на входные данные. Обучим на них регрессию, используя имеющийся в библиотеке sklearn функционал по подбору гиперпараметров модели\n",
        "    \n",
        "    optimizer = GridSearchCV(estimator, param_grid)\n",
        "\n",
        "где:\n",
        "- estimator - обучающий алгоритм, для которого будет производиться подбор параметров\n",
        "- param_grid - словарь параметров, ключами которого являются строки-названия, которые передаются алгоритму estimator, а значения - набор параметров для перебора\n",
        "\n",
        "Данный класс выполняет кросс-валидацию обучающей выборки для каждого набора параметров и находит те, на которых алгоритм работает лучше всего. Этот метод позволяет настраивать гиперпараметры по обучающей выборке, избегая переобучения. Некоторые опциональные параметры вызова данного класса, которые нам понадобятся:\n",
        "- scoring - функционал качества, максимум которого ищется кросс валидацией, по умолчанию используется функция score() класса esimator\n",
        "- n_jobs - позволяет ускорить кросс-валидацию, выполняя её параллельно, число определяет количество одновременно запущенных задач\n",
        "- cv - количество фолдов, на которые разбивается выборка при кросс-валидации\n",
        "\n",
        "После инициализации класса GridSearchCV, процесс подбора параметров запускается следующим методом:\n",
        "\n",
        "    optimizer.fit(X, y)\n",
        "    \n",
        "На выходе для получения предсказаний можно пользоваться функцией\n",
        "\n",
        "    optimizer.predict(X)\n",
        "    \n",
        "для меток или\n",
        "\n",
        "    optimizer.predict_proba(X)\n",
        "    \n",
        "для вероятностей (в случае использования логистической регрессии).\n",
        "    \n",
        "Также можно напрямую получить оптимальный класс estimator и оптимальные параметры, так как они является атрибутами класса GridSearchCV:\n",
        "- best\\_estimator\\_ - лучший алгоритм\n",
        "- best\\_params\\_ - лучший набор параметров\n",
        "\n",
        "Класс логистической регрессии выглядит следующим образом:\n",
        "\n",
        "    estimator = LogisticRegression(penalty)\n",
        "   \n",
        "где penalty принимает либо значение 'l2', либо 'l1'. По умолчанию устанавливается значение 'l2', и везде в задании, если об этом не оговорено особо, предполагается использование логистической регрессии с L2-регуляризацией."
      ]
    },
    {
      "cell_type": "markdown",
      "metadata": {
        "id": "0fwUeAwl0lWv"
      },
      "source": [
        "## Задание 1. Сравнение способов заполнения вещественных пропущенных значений.\n",
        "1. Составьте две обучающие выборки из вещественных и категориальных признаков: в одной вещественные признаки, где пропущенные значения заполнены нулями, в другой - средними. Рекомендуется записывать в выборки сначала вещественные, а потом категориальные признаки.\n",
        "2. Обучите на них логистическую регрессию, подбирая параметры из заданной сетки param_grid по методу кросс-валидации с числом фолдов cv=3. **При обучении использовать параметр solver='liblinear' в этом и последующих заданиях ноутбука.**\n",
        "3. Постройте два графика оценок точности +- их стандратного отклонения в зависимости от гиперпараметра и убедитесь, что вы действительно нашли её максимум. Также обратите внимание на большую дисперсию получаемых оценок (уменьшить её можно увеличением числа фолдов cv).\n",
        "4. Получите две метрики качества AUC ROC на тестовой выборке и сравните их между собой. Какой способ заполнения пропущенных вещественных значений работает лучше? В дальнейшем для выполнения задания в качестве вещественных признаков используйте ту выборку, которая даёт лучшее качество на тесте.\n",
        "\n",
        "\n",
        "Информация для интересующихся: вообще говоря, не вполне логично оптимизировать на кросс-валидации заданный по умолчанию в классе логистической регрессии функционал accuracy, а измерять на тесте AUC ROC, но это, как и ограничение размера выборки, сделано для ускорения работы процесса кросс-валидации."
      ]
    },
    {
      "cell_type": "code",
      "execution_count": 16,
      "metadata": {
        "id": "bIleFeEJ0lWv"
      },
      "outputs": [
        {
          "data": {
            "image/png": "[encoded data removed]",
            "text/plain": [
              "<Figure size 640x480 with 1 Axes>"
            ]
          },
          "metadata": {},
          "output_type": "display_data"
        },
        {
          "data": {
            "image/png": "[encoded data removed]",
            "text/plain": [
              "<Figure size 640x480 with 1 Axes>"
            ]
          },
          "metadata": {},
          "output_type": "display_data"
        }
      ],
      "source": [
        "from sklearn.linear_model import LogisticRegression\n",
        "from sklearn.model_selection import GridSearchCV\n",
        "from sklearn.metrics import roc_auc_score\n",
        "\n",
        "def plot_scores(optimizer):\n",
        "    scores=[]\n",
        "    for i in range(len(optimizer.cv_results_['params'])):\n",
        "        scores.append([optimizer.cv_results_['params'][i]['C'], \n",
        "                optimizer.cv_results_['mean_test_score'][i],\n",
        "                optimizer.cv_results_['std_test_score'][i]])\n",
        "    scores = np.array(scores)\n",
        "    plt.semilogx(scores[:,0], scores[:,1])\n",
        "    plt.fill_between(scores[:,0], scores[:,1]-scores[:,2], \n",
        "                                  scores[:,1]+scores[:,2], alpha=0.3)\n",
        "    plt.show()\n",
        "    \n",
        "        \n",
        "param_grid = {'C': [0.01, 0.05, 0.1, 0.5, 1, 5, 10]}\n",
        "cv = 3\n",
        "\n",
        "X_train_zeros_completed: np.ndarray = np.hstack((X_train_real_zeros, X_train_cat_oh))\n",
        "X_train_mean_completed: np.ndarray = np.hstack((X_train_real_mean, X_train_cat_oh))\n",
        "\n",
        "X_test_zeros_completed: np.ndarray = np.hstack((X_test_real_zeros, X_test_cat_oh))\n",
        "X_test_mean_completed: np.ndarray = np.hstack((X_test_real_mean, X_test_cat_oh))\n",
        "\n",
        "zeros_logistic_regression_search = GridSearchCV(LogisticRegression(solver=\"liblinear\"), param_grid=param_grid, cv=3).fit(X_train_zeros_completed, y_train)\n",
        "mean_logistic_regression_search = GridSearchCV(LogisticRegression(solver=\"liblinear\"), param_grid=param_grid, cv=3).fit(X_train_mean_completed, y_train)\n",
        "plot_scores(zeros_logistic_regression_search)\n",
        "plot_scores(mean_logistic_regression_search)"
      ]
    },
    {
      "cell_type": "code",
      "execution_count": 17,
      "metadata": {},
      "outputs": [
        {
          "data": {
            "text/plain": [
              "(4200, 364)"
            ]
          },
          "execution_count": 17,
          "metadata": {},
          "output_type": "execute_result"
        }
      ],
      "source": [
        "X_train_mean_completed.shape"
      ]
    },
    {
      "cell_type": "code",
      "execution_count": 18,
      "metadata": {},
      "outputs": [
        {
          "data": {
            "text/plain": [
              "0.5202901437973844"
            ]
          },
          "execution_count": 18,
          "metadata": {},
          "output_type": "execute_result"
        }
      ],
      "source": [
        "roc_auc_score(y_test, zeros_logistic_regression_search.predict(X_test_zeros_completed))"
      ]
    },
    {
      "cell_type": "code",
      "execution_count": 19,
      "metadata": {},
      "outputs": [
        {
          "data": {
            "text/plain": [
              "0.518965515107944"
            ]
          },
          "execution_count": 19,
          "metadata": {},
          "output_type": "execute_result"
        }
      ],
      "source": [
        "roc_auc_score(y_test, mean_logistic_regression_search.predict(X_test_mean_completed))"
      ]
    },
    {
      "cell_type": "markdown",
      "metadata": {
        "id": "FO0tatHi0lWw"
      },
      "source": [
        "## Масштабирование вещественных признаков."
      ]
    },
    {
      "cell_type": "markdown",
      "metadata": {
        "id": "515VQ0b50lWw"
      },
      "source": [
        "Попробуем как-то улучшить качество классификации. Для этого посмотрим на сами данные:"
      ]
    },
    {
      "cell_type": "code",
      "execution_count": 20,
      "metadata": {
        "id": "be6GxDuO0lWx"
      },
      "outputs": [
        {
          "data": {
            "image/png": "[encoded data removed]",
            "text/plain": [
              "<Figure size 1000x1000 with 9 Axes>"
            ]
          },
          "metadata": {},
          "output_type": "display_data"
        }
      ],
      "source": [
        "from pandas.plotting import scatter_matrix\n",
        "\n",
        "data_numeric = pd.DataFrame(X_train_real_zeros, columns=numeric_cols)\n",
        "list_cols = ['Number.of.Successful.Grant.1', 'SEO.Percentage.2', 'Year.of.Birth.1']\n",
        "scatter_matrix(data_numeric[list_cols], alpha=0.5, figsize=(10, 10))\n",
        "plt.show()"
      ]
    },
    {
      "cell_type": "markdown",
      "metadata": {
        "id": "GzLoAkH30lWx"
      },
      "source": [
        "Как видно из графиков, разные признаки очень сильно отличаются друг от друга по модулю значений (обратите внимание на диапазоны значений осей x и y). В случае обычной регрессии это никак не влияет на качество обучаемой модели, т.к. у меньших по модулю признаков будут большие веса, но при использовании регуляризации, которая штрафует модель за большие веса, регрессия, как правило, начинает работать хуже.\n",
        "\n",
        "В таких случаях всегда рекомендуется делать стандартизацию (масштабирование) признаков, для того чтобы они меньше отличались друг друга по модулю, но при этом не нарушались никакие другие свойства признакового пространства. При этом даже если итоговое качество модели на тесте уменьшается, это повышает её интерпретабельность, потому что новые веса имеют смысл \"значимости\" данного признака для итоговой классификации.\n",
        "\n",
        "Стандартизация осуществляется посредством вычета из каждого признака среднего значения и нормировки на выборочное стандартное отклонение:\n",
        "\n",
        "$$ x^{scaled}_{id} = \\dfrac{x_{id} - \\mu_d}{\\sigma_d}, \\quad \\mu_d = \\frac{1}{N} \\sum_{i=1}^l x_{id}, \\quad \\sigma_d = \\sqrt{\\frac{1}{N-1} \\sum_{i=1}^l (x_{id} - \\mu_d)^2} $$"
      ]
    },
    {
      "cell_type": "markdown",
      "metadata": {
        "id": "It2H_kxM0lWx"
      },
      "source": [
        "## Задание 1.5. Масштабирование вещественных признаков.\n",
        "\n",
        "1. По аналогии с вызовом one-hot encoder примените масштабирование вещественных признаков для обучающих и тестовых выборок X_train_real_zeros и X_test_real_zeros, используя класс \n",
        "\n",
        "        StandardScaler\n",
        "   \n",
        "   и методы \n",
        "\n",
        "        StandardScaler.fit_transform(...)\n",
        "        StandardScaler.transform(...)\n",
        "2. Сохраните ответ в переменные X_train_real_scaled и X_test_real_scaled соответственно"
      ]
    },
    {
      "cell_type": "code",
      "execution_count": 21,
      "metadata": {
        "id": "6_o_xhal0lWx"
      },
      "outputs": [],
      "source": [
        "from sklearn.preprocessing import StandardScaler\n",
        "\n",
        "scaler = StandardScaler().fit(X_train_real_zeros)\n",
        "X_train_real_scaled = scaler.transform(X_train_real_zeros)\n",
        "X_test_real_scaled = scaler.transform(X_test_real_zeros)"
      ]
    },
    {
      "cell_type": "markdown",
      "metadata": {
        "id": "cQajtSrM0lWy"
      },
      "source": [
        "## Сравнение признаковых пространств."
      ]
    },
    {
      "cell_type": "markdown",
      "metadata": {
        "id": "BmkHGmpt0lWy"
      },
      "source": [
        "Построим такие же графики для преобразованных данных:"
      ]
    },
    {
      "cell_type": "code",
      "execution_count": 22,
      "metadata": {
        "id": "Ehbxnqc50lWz"
      },
      "outputs": [
        {
          "data": {
            "image/png": "[encoded data removed]",
            "text/plain": [
              "<Figure size 1000x1000 with 9 Axes>"
            ]
          },
          "metadata": {},
          "output_type": "display_data"
        }
      ],
      "source": [
        "data_numeric_scaled = pd.DataFrame(X_train_real_scaled, columns=numeric_cols)\n",
        "list_cols = ['Number.of.Successful.Grant.1', 'SEO.Percentage.2', 'Year.of.Birth.1']\n",
        "scatter_matrix(data_numeric_scaled[list_cols], alpha=0.5, figsize=(10, 10))\n",
        "plt.show()"
      ]
    },
    {
      "cell_type": "markdown",
      "metadata": {
        "id": "mMmwQon90lWz"
      },
      "source": [
        "Как видно из графиков, мы не поменяли свойства признакового пространства: гистограммы распределений значений признаков, как и их scatter-plots, выглядят так же, как и до нормировки, но при этом все значения теперь находятся примерно в одном диапазоне, тем самым повышая интерпретабельность результатов, а также лучше сочетаясь с идеологией регуляризации."
      ]
    },
    {
      "cell_type": "markdown",
      "metadata": {
        "id": "7LT3EZlC0lWz"
      },
      "source": [
        "## Задание 2. Сравнение качества классификации до и после масштабирования вещественных признаков.\n",
        "1. Обучите ещё раз регрессию и гиперпараметры на новых признаках, объединив их с закодированными категориальными.\n",
        "2. Проверьте, был ли найден оптимум accuracy по гиперпараметрам во время кроссвалидации.\n",
        "3. Получите значение ROC AUC на тестовой выборке, сравните с лучшим результатом, полученными ранее."
      ]
    },
    {
      "cell_type": "code",
      "execution_count": 23,
      "metadata": {
        "id": "TzDuzvnl0lW0"
      },
      "outputs": [],
      "source": [
        "X_train_scaled_completed = np.hstack((X_train_real_scaled, X_train_cat_oh))\n",
        "X_test_scaled_completed = np.hstack((X_test_real_scaled, X_test_cat_oh))\n",
        "scaled_zeros_logistic_regression_search = GridSearchCV(LogisticRegression(solver=\"liblinear\"), param_grid=param_grid, cv=3).fit(X_train_scaled_completed, y_train)"
      ]
    },
    {
      "cell_type": "code",
      "execution_count": 24,
      "metadata": {},
      "outputs": [
        {
          "data": {
            "text/plain": [
              "0.525"
            ]
          },
          "execution_count": 24,
          "metadata": {},
          "output_type": "execute_result"
        }
      ],
      "source": [
        "scaled_zeros_logistic_regression_search.score(X_test_scaled_completed, y_test)\n",
        "#accuracy_score(y_test, scaled_zeros_logistic_regression_search.predict(X_test_scaled_completed))"
      ]
    },
    {
      "cell_type": "code",
      "execution_count": 25,
      "metadata": {},
      "outputs": [
        {
          "data": {
            "text/plain": [
              "0.5087056750533007"
            ]
          },
          "execution_count": 25,
          "metadata": {},
          "output_type": "execute_result"
        }
      ],
      "source": [
        "roc_auc_score(y_test, zeros_logistic_regression_search.predict(X_test_scaled_completed))"
      ]
    },
    {
      "cell_type": "markdown",
      "metadata": {
        "id": "n1ov71mQ0lW0"
      },
      "source": [
        "## Балансировка классов."
      ]
    },
    {
      "cell_type": "markdown",
      "metadata": {
        "id": "Z84N7Qlh0lW0"
      },
      "source": [
        "Алгоритмы классификации могут быть очень чувствительны к несбалансированным классам. Рассмотрим пример с выборками, сэмплированными из двух гауссиан. Их мат. ожидания и матрицы ковариации заданы так, что истинная разделяющая поверхность должна проходить параллельно оси x. Поместим в обучающую выборку 20 объектов, сэмплированных из 1-й гауссианы, и 10 объектов из 2-й. После этого обучим на них линейную регрессию, и построим на графиках объекты и области классификации."
      ]
    },
    {
      "cell_type": "code",
      "execution_count": 26,
      "metadata": {
        "id": "kkl-TV9k0lW0"
      },
      "outputs": [
        {
          "data": {
            "image/png": "[encoded data removed]",
            "text/plain": [
              "<Figure size 640x480 with 1 Axes>"
            ]
          },
          "metadata": {},
          "output_type": "display_data"
        },
        {
          "name": "stdout",
          "output_type": "stream",
          "text": [
            "AUC: 0.911667\n"
          ]
        },
        {
          "data": {
            "image/png": "[encoded data removed]",
            "text/plain": [
              "<Figure size 640x480 with 1 Axes>"
            ]
          },
          "metadata": {},
          "output_type": "display_data"
        },
        {
          "name": "stdout",
          "output_type": "stream",
          "text": [
            "AUC: 0.906667\n"
          ]
        }
      ],
      "source": [
        "np.random.seed(0)\n",
        "\"\"\"Сэмплируем данные из первой гауссианы\"\"\"\n",
        "data_0 = np.random.multivariate_normal([0,0], [[0.5,0],[0,0.5]], size=40)\n",
        "\"\"\"И из второй\"\"\"\n",
        "data_1 = np.random.multivariate_normal([0,1], [[0.5,0],[0,0.5]], size=40)\n",
        "\"\"\"На обучение берём 20 объектов из первого класса и 10 из второго\"\"\"\n",
        "example_data_train = np.vstack([data_0[:20,:], data_1[:10,:]])\n",
        "example_labels_train = np.concatenate([np.zeros((20)), np.ones((10))])\n",
        "\"\"\"На тест - 20 из первого и 30 из второго\"\"\"\n",
        "example_data_test = np.vstack([data_0[20:,:], data_1[10:,:]])\n",
        "example_labels_test = np.concatenate([np.zeros((20)), np.ones((30))])\n",
        "\"\"\"Задаём координатную сетку, на которой будем вычислять область классификации\"\"\"\n",
        "xx, yy = np.meshgrid(np.arange(-3, 3, 0.02), np.arange(-3, 3, 0.02))\n",
        "\"\"\"Обучаем регрессию без балансировки по классам\"\"\"\n",
        "optimizer = GridSearchCV(LogisticRegression(), param_grid, cv=cv, n_jobs=-1)\n",
        "optimizer.fit(example_data_train, example_labels_train)\n",
        "\"\"\"Строим предсказания регрессии для сетки\"\"\"\n",
        "Z = optimizer.predict(np.c_[xx.ravel(), yy.ravel()]).reshape(xx.shape)\n",
        "plt.pcolormesh(xx, yy, Z, cmap=plt.cm.Pastel2)\n",
        "plt.scatter(data_0[:,0], data_0[:,1], color='red')\n",
        "plt.scatter(data_1[:,0], data_1[:,1], color='blue')\n",
        "\"\"\"Считаем AUC\"\"\"\n",
        "auc_wo_class_weights = roc_auc_score(example_labels_test, optimizer.predict_proba(example_data_test)[:,1])\n",
        "plt.title('Without class weights')\n",
        "plt.show()\n",
        "print('AUC: %f'%auc_wo_class_weights)\n",
        "\"\"\"Для второй регрессии в LogisticRegression передаём параметр class_weight='balanced'\"\"\"\n",
        "optimizer = GridSearchCV(LogisticRegression(class_weight='balanced'), param_grid, cv=cv, n_jobs=-1)\n",
        "optimizer.fit(example_data_train, example_labels_train)\n",
        "Z = optimizer.predict(np.c_[xx.ravel(), yy.ravel()]).reshape(xx.shape)\n",
        "plt.pcolormesh(xx, yy, Z, cmap=plt.cm.Pastel2)\n",
        "plt.scatter(data_0[:,0], data_0[:,1], color='red')\n",
        "plt.scatter(data_1[:,0], data_1[:,1], color='blue')\n",
        "auc_w_class_weights = roc_auc_score(example_labels_test, optimizer.predict_proba(example_data_test)[:,1])\n",
        "plt.title('With class weights')\n",
        "plt.show()\n",
        "print('AUC: %f'%auc_w_class_weights)"
      ]
    },
    {
      "cell_type": "markdown",
      "metadata": {
        "id": "vv8XTM9J0lW1"
      },
      "source": [
        "Как видно, во втором случае классификатор находит разделяющую поверхность, которая ближе к истинной, т.е. меньше переобучается. Поэтому на сбалансированность классов в обучающей выборке всегда следует обращать внимание.\n",
        "\n",
        "Посмотрим, сбалансированны ли классы в нашей обучающей выборке:"
      ]
    },
    {
      "cell_type": "code",
      "execution_count": 27,
      "metadata": {
        "id": "4hjw9e260lW1"
      },
      "outputs": [
        {
          "name": "stdout",
          "output_type": "stream",
          "text": [
            "2316\n",
            "1884\n"
          ]
        }
      ],
      "source": [
        "print(np.sum(y_train==0))\n",
        "print(np.sum(y_train==1))"
      ]
    },
    {
      "cell_type": "markdown",
      "metadata": {
        "id": "iUtQmB060lW1"
      },
      "source": [
        "Видно, что нет.\n",
        "\n",
        "Исправить ситуацию можно разными способами, мы рассмотрим два:\n",
        "- давать объектам миноритарного класса больший вес при обучении классификатора (рассмотрен в примере выше)\n",
        "- досэмплировать объекты миноритарного класса, пока число объектов в обоих классах не сравняется"
      ]
    },
    {
      "cell_type": "markdown",
      "metadata": {
        "id": "t4Xc72gj0lW1"
      },
      "source": [
        "## Задание 3. Балансировка классов.\n",
        "1. Обучите логистическую регрессию и гиперпараметры с балансировкой классов, используя веса (параметр class_weight='balanced' регрессии) на отмасштабированных выборках, полученных в предыдущем задании. Убедитесь, что вы нашли максимум accuracy по гиперпараметрам.\n",
        "2. Получите метрику ROC AUC на тестовой выборке.\n",
        "3. Сбалансируйте выборку, досэмплировав в неё объекты из меньшего класса. Для получения индексов объектов, которые требуется добавить в обучающую выборку, используйте следующую комбинацию вызовов функций:\n",
        "        np.random.seed(0)\n",
        "        indices_to_add = np.random.randint(...)\n",
        "        X_train_to_add = X_train[y_train.as_matrix() == 1,:][indices_to_add,:]\n",
        "   После этого добавьте эти объекты в начало или конец обучающей выборки. Дополните соответствующим      образом вектор ответов.\n",
        "4. Получите метрику ROC AUC на тестовой выборке, сравните с предыдущим результатом."
      ]
    },
    {
      "cell_type": "code",
      "execution_count": 28,
      "metadata": {
        "id": "wWqYciNM0lW2"
      },
      "outputs": [
        {
          "name": "stdout",
          "output_type": "stream",
          "text": [
            "3\n",
            "[0.52714286 0.54166667 0.53428571 0.5447619  0.52761905 0.535\n",
            " 0.53142857]\n"
          ]
        }
      ],
      "source": [
        "balanced_logistic_regression_search = GridSearchCV(LogisticRegression(solver=\"liblinear\", class_weight=\"balanced\"), param_grid=param_grid, cv=3).fit(X_train_scaled_completed, y_train)\n",
        "print(balanced_logistic_regression_search.best_index_)\n",
        "print(balanced_logistic_regression_search.cv_results_[\"mean_test_score\"])"
      ]
    },
    {
      "cell_type": "code",
      "execution_count": 29,
      "metadata": {},
      "outputs": [
        {
          "data": {
            "text/plain": [
              "0.5366305306805288"
            ]
          },
          "execution_count": 29,
          "metadata": {},
          "output_type": "execute_result"
        }
      ],
      "source": [
        "roc_auc_score(y_test, balanced_logistic_regression_search.predict(X_test_scaled_completed))"
      ]
    },
    {
      "cell_type": "code",
      "execution_count": 30,
      "metadata": {},
      "outputs": [
        {
          "data": {
            "text/plain": [
              "array([2732, 2607, 1653, ..., 1885, 2348, 1260])"
            ]
          },
          "execution_count": 30,
          "metadata": {},
          "output_type": "execute_result"
        }
      ],
      "source": [
        "np.random.seed(0)\n",
        "y_train: pd.Series\n",
        "indices_to_add: np.ndarray = np.random.randint(0, y_train.shape[0], np.sum(y_train==0) - np.sum(y_test==1))\n",
        "indices_to_add"
      ]
    },
    {
      "cell_type": "code",
      "execution_count": 31,
      "metadata": {},
      "outputs": [],
      "source": [
        "X_train_to_add: np.ndarray = X_train_scaled_completed[indices_to_add,:]\n",
        "y_train_to_add: np.ndarray = y_train[indices_to_add]\n",
        "\n",
        "X_train_upsampled = np.vstack((X_train_scaled_completed, X_train_to_add))\n",
        "y_train_upsampled = np.hstack((y_train, y_train_to_add))"
      ]
    },
    {
      "cell_type": "code",
      "execution_count": 32,
      "metadata": {},
      "outputs": [
        {
          "data": {
            "text/plain": [
              "0.544739782540639"
            ]
          },
          "execution_count": 32,
          "metadata": {},
          "output_type": "execute_result"
        }
      ],
      "source": [
        "upsampled_logistic_regression_search = GridSearchCV(LogisticRegression(solver=\"liblinear\", class_weight=\"balanced\"), param_grid=param_grid, cv=3).fit(X_train_upsampled, y_train_upsampled)\n",
        "roc_auc_score(y_test, upsampled_logistic_regression_search.predict(X_test_scaled_completed))"
      ]
    },
    {
      "cell_type": "markdown",
      "metadata": {
        "id": "fqCvsZp80lW2"
      },
      "source": [
        "## Стратификация выборок."
      ]
    },
    {
      "cell_type": "markdown",
      "metadata": {
        "id": "PFUG383f0lW2"
      },
      "source": [
        "Рассмотрим ещё раз пример с выборками из нормальных распределений. Посмотрим ещё раз на качество классификаторов, получаемое на тестовых выборках:"
      ]
    },
    {
      "cell_type": "code",
      "execution_count": 33,
      "metadata": {
        "id": "iIQmDtGE0lW2"
      },
      "outputs": [
        {
          "name": "stdout",
          "output_type": "stream",
          "text": [
            "AUC ROC for classifier without weighted classes 0.9116666666666666\n",
            "AUC ROC for classifier with weighted classes:  0.9066666666666666\n"
          ]
        }
      ],
      "source": [
        "print('AUC ROC for classifier without weighted classes', auc_wo_class_weights)\n",
        "print('AUC ROC for classifier with weighted classes: ', auc_w_class_weights)"
      ]
    },
    {
      "cell_type": "markdown",
      "metadata": {
        "id": "YxNvkH3M0lW2"
      },
      "source": [
        "Насколько эти цифры реально отражают качество работы алгоритма, если учесть, что тестовая выборка так же несбалансирована, как обучающая? При этом мы уже знаем, что алгоритм логистический регрессии чувствителен к балансировке классов в обучающей выборке, т.е. в данном случае на тесте он будет давать заведомо заниженные результаты. Метрика классификатора на тесте имела бы гораздо больший смысл, если бы объекты были разделы в выборках поровну: по 20 из каждого класса на обучени и на тесте. Переформируем выборки и подсчитаем новые ошибки:"
      ]
    },
    {
      "cell_type": "code",
      "execution_count": 34,
      "metadata": {
        "id": "wwFCIEfV0lW3"
      },
      "outputs": [
        {
          "data": {
            "image/png": "[encoded data removed]",
            "text/plain": [
              "<Figure size 640x480 with 1 Axes>"
            ]
          },
          "metadata": {},
          "output_type": "display_data"
        },
        {
          "name": "stdout",
          "output_type": "stream",
          "text": [
            "AUC ROC for stratified samples:  0.9125\n"
          ]
        }
      ],
      "source": [
        "\"\"\"Разделим данные по классам поровну между обучающей и тестовой выборками\"\"\"\n",
        "example_data_train = np.vstack([data_0[:20,:], data_1[:20,:]])\n",
        "example_labels_train = np.concatenate([np.zeros((20)), np.ones((20))])\n",
        "example_data_test = np.vstack([data_0[20:,:], data_1[20:,:]])\n",
        "example_labels_test = np.concatenate([np.zeros((20)), np.ones((20))])\n",
        "\"\"\"Обучим классификатор\"\"\"\n",
        "optimizer = GridSearchCV(LogisticRegression(class_weight='balanced'), param_grid, cv=cv, n_jobs=-1)\n",
        "optimizer.fit(example_data_train, example_labels_train)\n",
        "Z = optimizer.predict(np.c_[xx.ravel(), yy.ravel()]).reshape(xx.shape)\n",
        "plt.pcolormesh(xx, yy, Z, cmap=plt.cm.Pastel2)\n",
        "plt.scatter(data_0[:,0], data_0[:,1], color='red')\n",
        "plt.scatter(data_1[:,0], data_1[:,1], color='blue')\n",
        "auc_stratified = roc_auc_score(example_labels_test, optimizer.predict_proba(example_data_test)[:,1])\n",
        "plt.title('With class weights')\n",
        "plt.show()\n",
        "print('AUC ROC for stratified samples: ', auc_stratified)"
      ]
    },
    {
      "cell_type": "markdown",
      "metadata": {
        "id": "8oJxYXNO0lW3"
      },
      "source": [
        "Как видно, после данной процедуры ответ классификатора изменился незначительно, а вот качество увеличилось. При этом, в зависимости от того, как вы разбили изначально данные на обучение и тест, после сбалансированного разделения выборок итоговая метрика на тесте может как увеличиться, так и уменьшиться, но доверять ей можно значительно больше, т.к. она построена с учётом специфики работы классификатора. Данный подход является частным случаем т.н. метода стратификации."
      ]
    },
    {
      "cell_type": "markdown",
      "metadata": {
        "id": "mQDRlFH10lW3"
      },
      "source": [
        "## Задание 4. Стратификация выборки.\n",
        "\n",
        "1. По аналогии с тем, как это было сделано в начале задания, разбейте выборки X_real_zeros и X_cat_oh на обучение и тест, передавая в функцию \n",
        "        train_test_split(...)\n",
        "   дополнительно параметр \n",
        "       stratify=y\n",
        "   Также обязательно передайте в функцию переменную random_state=0.\n",
        "2. Выполните масштабирование новых вещественных выборок, обучите классификатор и его гиперпараметры при помощи метода кросс-валидации, делая поправку на несбалансированные классы при помощи весов. Убедитесь в том, что нашли оптимум accuracy по гиперпараметрам.\n",
        "3. Оцените качество классификатора метрике AUC ROC на тестовой выборке."
      ]
    },
    {
      "cell_type": "code",
      "execution_count": 35,
      "metadata": {
        "id": "eNSKXLwV0lW4"
      },
      "outputs": [],
      "source": [
        "X_train_real_zeros, X_test_real_zeros, y_train, y_test = train_test_split(X_real_zeros, Y, test_size=0.3, random_state=0, stratify=Y)\n",
        "X_train_cat_oh, X_test_cat_oh = train_test_split(X_cat_oh, test_size=0.3, random_state=0, stratify=Y)"
      ]
    },
    {
      "cell_type": "code",
      "execution_count": 36,
      "metadata": {},
      "outputs": [],
      "source": [
        "scaler = StandardScaler().fit(X_train_real_zeros)\n",
        "\n",
        "X_train_real_scaled = scaler.transform(X_train_real_zeros)\n",
        "X_test_real_scaled = scaler.transform(X_test_real_zeros)\n",
        "\n",
        "X_train = np.hstack((X_train_real_scaled, X_train_cat_oh))\n",
        "X_test = np.hstack((X_test_real_scaled, X_test_cat_oh))"
      ]
    },
    {
      "cell_type": "code",
      "execution_count": 37,
      "metadata": {},
      "outputs": [],
      "source": [
        "stratify_logistic_regression_search = GridSearchCV(LogisticRegression(solver=\"liblinear\", class_weight=\"balanced\"), param_grid=param_grid, cv=3).fit(X_train, y_train)"
      ]
    },
    {
      "cell_type": "code",
      "execution_count": 38,
      "metadata": {},
      "outputs": [
        {
          "data": {
            "text/plain": [
              "0.5380786052274118"
            ]
          },
          "execution_count": 38,
          "metadata": {},
          "output_type": "execute_result"
        }
      ],
      "source": [
        "roc_auc_score(y_test, stratify_logistic_regression_search.predict(X_test))"
      ]
    },
    {
      "cell_type": "markdown",
      "metadata": {
        "id": "xaTkqRUO0lW5"
      },
      "source": [
        "Теперь вы разобрались с основными этапами предобработки данных для линейных классификаторов.\n",
        "Напомним основные этапы:\n",
        "- обработка пропущенных значений\n",
        "- обработка категориальных признаков\n",
        "- стратификация\n",
        "- балансировка классов\n",
        "- масштабирование\n",
        "\n",
        "Данные действия с данными рекомендуется проводить всякий раз, когда вы планируете использовать линейные методы. Рекомендация по выполнению многих из этих пунктов справедлива и для других методов машинного обучения."
      ]
    },
    {
      "cell_type": "markdown",
      "metadata": {
        "id": "9y8MKvOR0lW5"
      },
      "source": [
        "## Трансформация признаков.\n",
        "\n",
        "Теперь рассмотрим способы преобразования признаков. Существует достаточно много различных способов трансформации признаков, которые позволяют при помощи линейных методов получать более сложные разделяющие поверхности. Самым базовым является полиномиальное преобразование признаков. Его идея заключается в том, что помимо самих признаков вы дополнительно включаете набор все полиномы степени $p$, которые можно из них построить. Для случая $p=2$ преобразование выглядит следующим образом:\n",
        "\n",
        "$$ \\phi(x_i) = [x_{i,1}^2, ..., x_{i,D}^2, x_{i,1}x_{i,2}, ..., x_{i,D} x_{i,D-1}, x_{i,1}, ..., x_{i,D}, 1] $$\n",
        "\n",
        "Рассмотрим принцип работы данных признаков на данных, сэмплированных их гауссиан:"
      ]
    },
    {
      "cell_type": "code",
      "execution_count": 39,
      "metadata": {
        "id": "boB8D5sy0lW6"
      },
      "outputs": [
        {
          "data": {
            "image/png": "[encoded data removed]",
            "text/plain": [
              "<Figure size 640x480 with 1 Axes>"
            ]
          },
          "metadata": {},
          "output_type": "display_data"
        }
      ],
      "source": [
        "from sklearn.preprocessing import PolynomialFeatures\n",
        "\n",
        "\"\"\"Инициализируем класс, который выполняет преобразование\"\"\"\n",
        "transform = PolynomialFeatures(2)\n",
        "\"\"\"Обучаем преобразование на обучающей выборке, применяем его к тестовой\"\"\"\n",
        "example_data_train_poly = transform.fit_transform(example_data_train)\n",
        "example_data_test_poly = transform.transform(example_data_test)\n",
        "\"\"\"Обращаем внимание на параметр fit_intercept=False\"\"\"\n",
        "optimizer = GridSearchCV(LogisticRegression(class_weight='balanced', fit_intercept=False), param_grid, cv=cv, n_jobs=-1)\n",
        "optimizer.fit(example_data_train_poly, example_labels_train)\n",
        "Z = optimizer.predict(transform.transform(np.c_[xx.ravel(), yy.ravel()])).reshape(xx.shape)\n",
        "plt.pcolormesh(xx, yy, Z, cmap=plt.cm.Pastel2)\n",
        "plt.scatter(data_0[:,0], data_0[:,1], color='red')\n",
        "plt.scatter(data_1[:,0], data_1[:,1], color='blue')\n",
        "plt.title('With class weights')\n",
        "plt.show()"
      ]
    },
    {
      "cell_type": "markdown",
      "metadata": {
        "id": "xq14koF60lW6"
      },
      "source": [
        "Видно, что данный метод преобразования данных уже позволяет строить нелинейные разделяющие поверхности, которые могут более тонко подстраиваться под данные и находить более сложные зависимости. Число признаков в новой модели:"
      ]
    },
    {
      "cell_type": "code",
      "execution_count": 40,
      "metadata": {
        "id": "zOKzY7N_0lW7"
      },
      "outputs": [
        {
          "name": "stdout",
          "output_type": "stream",
          "text": [
            "(40, 6)\n"
          ]
        }
      ],
      "source": [
        "print(example_data_train_poly.shape)"
      ]
    },
    {
      "cell_type": "markdown",
      "metadata": {
        "id": "ixmRGHVI0lW7"
      },
      "source": [
        "Но при этом одновременно данный метод способствует более сильной способности модели к переобучению из-за быстрого роста числа признаком с увеличением степени $p$. Рассмотрим пример с $p=11$:"
      ]
    },
    {
      "cell_type": "code",
      "execution_count": 41,
      "metadata": {
        "id": "jsslZDp40lW8"
      },
      "outputs": [
        {
          "data": {
            "image/png": "[encoded data removed]",
            "text/plain": [
              "<Figure size 640x480 with 1 Axes>"
            ]
          },
          "metadata": {},
          "output_type": "display_data"
        }
      ],
      "source": [
        "transform = PolynomialFeatures(33)\n",
        "example_data_train_poly = transform.fit_transform(example_data_train)\n",
        "example_data_test_poly = transform.transform(example_data_test)\n",
        "optimizer = GridSearchCV(LogisticRegression(class_weight='balanced', fit_intercept=False), param_grid, cv=cv, n_jobs=-1)\n",
        "optimizer.fit(example_data_train_poly, example_labels_train)\n",
        "Z = optimizer.predict(transform.transform(np.c_[xx.ravel(), yy.ravel()])).reshape(xx.shape)\n",
        "plt.pcolormesh(xx, yy, Z, cmap=plt.cm.Pastel2)\n",
        "plt.scatter(data_0[:,0], data_0[:,1], color='red')\n",
        "plt.scatter(data_1[:,0], data_1[:,1], color='blue')\n",
        "plt.title('Corrected class weights')\n",
        "plt.show()"
      ]
    },
    {
      "cell_type": "markdown",
      "metadata": {
        "id": "qGYAyVk-0lW8"
      },
      "source": [
        "Количество признаков в данной модели:"
      ]
    },
    {
      "cell_type": "code",
      "execution_count": 42,
      "metadata": {
        "id": "azP9vZdb0lW9"
      },
      "outputs": [
        {
          "name": "stdout",
          "output_type": "stream",
          "text": [
            "(40, 595)\n"
          ]
        }
      ],
      "source": [
        "print(example_data_train_poly.shape)"
      ]
    },
    {
      "cell_type": "markdown",
      "metadata": {
        "id": "UrJ9yo600lW9"
      },
      "source": [
        "## Задание 5. Трансформация вещественных признаков.\n",
        "\n",
        "1. Реализуйте по аналогии с примером преобразование вещественных признаков модели при помощи полиномиальных признаков степени 2\n",
        "2. Постройте логистическую регрессию на новых данных, одновременно подобрав оптимальные гиперпараметры. Обращаем внимание, что в преобразованных признаках уже присутствует столбец, все значения которого равны 1, поэтому обучать дополнительно значение $b$ не нужно, его функцию выполняет один из весов $w$. В связи с этим во избежание линейной зависимости в датасете, в вызов класса логистической регрессии требуется передавать параметр fit_intercept=False. Для обучения используйте стратифицированные выборки с балансировкой классов при помощи весов, преобразованные признаки требуется заново отмасштабировать.\n",
        "3. Получите AUC ROC на тесте и сравните данный результат с использованием обычных признаков."
      ]
    },
    {
      "cell_type": "code",
      "execution_count": 43,
      "metadata": {
        "id": "r2LfBNIX0lW-"
      },
      "outputs": [],
      "source": [
        "transform = PolynomialFeatures(2)\n",
        "X_train_polynomial = transform.fit_transform(X_train_real_zeros)\n",
        "X_test_polynomial = transform.transform(X_test_real_zeros)"
      ]
    },
    {
      "cell_type": "code",
      "execution_count": 44,
      "metadata": {},
      "outputs": [],
      "source": [
        "scaler = StandardScaler().fit(X_train_polynomial)\n",
        "\n",
        "X_train_polynomial_scaled = scaler.transform(X_train_polynomial)\n",
        "X_test_polynomial_scaled = scaler.transform(X_test_polynomial)\n",
        "\n",
        "X_train = np.hstack((X_train_polynomial_scaled, X_train_cat_oh))\n",
        "X_test = np.hstack((X_test_polynomial_scaled, X_test_cat_oh))"
      ]
    },
    {
      "cell_type": "code",
      "execution_count": 45,
      "metadata": {},
      "outputs": [],
      "source": [
        "polynomial_logistic_regression_search = GridSearchCV(LogisticRegression(solver=\"liblinear\", class_weight=\"balanced\", fit_intercept=False), param_grid=param_grid, cv=3).fit(X_train, y_train)"
      ]
    },
    {
      "cell_type": "code",
      "execution_count": 46,
      "metadata": {},
      "outputs": [
        {
          "data": {
            "text/plain": [
              "0.537470332721329"
            ]
          },
          "execution_count": 46,
          "metadata": {},
          "output_type": "execute_result"
        }
      ],
      "source": [
        "roc_auc_score(y_test, polynomial_logistic_regression_search.predict(X_test))"
      ]
    },
    {
      "cell_type": "markdown",
      "metadata": {
        "id": "J_wEA84Q0lW-"
      },
      "source": [
        "## Регрессия Lasso.\n",
        "К логистической регрессии также можно применить L1-регуляризацию (Lasso), вместо регуляризации L2, которая будет приводить к отбору признаков. Вам предлагается применить L1-регуляцию к исходным признакам и проинтерпретировать полученные результаты (применение отбора признаков к полиномиальным так же можно успешно применять, но в нём уже будет отсутствовать компонента интерпретации, т.к. смысловое значение оригинальных признаков известно, а полиномиальных - уже может быть достаточно нетривиально). Для вызова логистической регрессии с L1-регуляризацией достаточно передать параметр penalty='l1' в инициализацию класса."
      ]
    },
    {
      "cell_type": "markdown",
      "metadata": {
        "id": "vvQoim810lW-"
      },
      "source": [
        "## Задание 6. Отбор признаков при помощи регрессии Lasso.\n",
        "1. Обучите регрессию Lasso на стратифицированных отмасштабированных выборках, используя балансировку классов при помощи весов. Для задания используем X_train_real_zeros.\n",
        "2. Получите ROC AUC регрессии, сравните его с предыдущими результатами.\n",
        "3. Найдите номера вещественных признаков, которые имеют нулевые веса в итоговой модели."
      ]
    },
    {
      "cell_type": "code",
      "execution_count": 47,
      "metadata": {
        "id": "_ToenArn0lW_"
      },
      "outputs": [],
      "source": [
        "scaler = StandardScaler().fit(X_train_real_zeros)\n",
        "\n",
        "X_train_real_scaled = scaler.transform(X_train_real_zeros)\n",
        "X_test_real_scaled = scaler.transform(X_test_real_zeros)\n",
        "\n",
        "X_train = np.hstack((X_train_real_scaled, X_train_cat_oh))\n",
        "X_test = np.hstack((X_test_real_scaled, X_test_cat_oh))"
      ]
    },
    {
      "cell_type": "code",
      "execution_count": 48,
      "metadata": {},
      "outputs": [],
      "source": [
        "lasso_logistic_regression_search = GridSearchCV(LogisticRegression(solver=\"liblinear\", class_weight=\"balanced\", penalty=\"l1\"), param_grid=param_grid, cv=3).fit(X_train, y_train)"
      ]
    },
    {
      "cell_type": "code",
      "execution_count": 49,
      "metadata": {},
      "outputs": [
        {
          "data": {
            "text/plain": [
              "0.8004269102742079"
            ]
          },
          "execution_count": 49,
          "metadata": {},
          "output_type": "execute_result"
        }
      ],
      "source": [
        "roc_auc_score(y_test, lasso_logistic_regression_search.predict(X_test))\n"
      ]
    },
    {
      "cell_type": "code",
      "execution_count": 50,
      "metadata": {},
      "outputs": [
        {
          "name": "stdout",
          "output_type": "stream",
          "text": [
            "(14, 16, 18, 20, 28, 36, 41, 43, 54, 64, 68, 75, 76, 77, 78, 79, 80, 81, 82, 83, 84, 85, 87, 90, 91, 93, 96, 97, 98, 99, 100, 101, 102, 103, 104, 105, 106, 110, 118, 120, 123, 127, 132, 133, 134, 135, 140, 141, 143, 144, 145, 146, 148, 153, 156, 157, 163, 164, 169, 175, 177, 178, 187, 189, 190, 194, 196, 199, 210, 216, 220, 222, 224, 226, 229, 232, 235, 237, 240, 245, 253, 255, 256, 258, 259, 263, 266, 269, 270, 271, 281, 283, 287, 288, 290, 291, 295, 296, 307, 308, 311, 313, 314, 315, 317, 318, 326, 333, 338, 340, 346, 347, 354, 363)\n"
          ]
        }
      ],
      "source": [
        "print(tuple(i for i, value in enumerate(*lasso_logistic_regression_search.best_estimator_.coef_) if abs(value) < 1e-5))"
      ]
    }
  ],
  "metadata": {
    "colab": {
      "provenance": []
    },
    "kernelspec": {
      "display_name": "Python 3",
      "language": "python",
      "name": "python3"
    },
    "language_info": {
      "codemirror_mode": {
        "name": "ipython",
        "version": 3
      },
      "file_extension": ".py",
      "mimetype": "text/x-python",
      "name": "python",
      "nbconvert_exporter": "python",
      "pygments_lexer": "ipython3",
      "version": "3.10.4"
    }
  },
  "nbformat": 4,
  "nbformat_minor": 0
}
