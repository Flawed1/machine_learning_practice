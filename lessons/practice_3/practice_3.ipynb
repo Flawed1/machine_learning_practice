{
 "cells": [
  {
   "cell_type": "code",
   "execution_count": null,
   "metadata": {},
   "outputs": [],
   "source": [
    "import pandas as pd\n",
    "import numpy as np\n",
    "from typing import Optional, Final\n",
    "import seaborn as sea"
   ]
  },
  {
   "cell_type": "code",
   "execution_count": null,
   "metadata": {},
   "outputs": [],
   "source": [
    "data = pd.read_excel(\"статистика_старт.xlsx\")\n",
    "data"
   ]
  },
  {
   "cell_type": "code",
   "execution_count": null,
   "metadata": {},
   "outputs": [],
   "source": [
    "features: tuple[str] = (\"Регион\",\n",
    "                        \"Доходы гостиниц и аналогичных средств размещения\",\n",
    "                        \"Число гостиниц и средств размещения\",\n",
    "                        \"Численность размещенных лиц в гостиницах и ананлогичных средствах размещения\",\n",
    "                        \"Число ночевок в гостиницах и ананлогичных средствах размещения\",\n",
    "                        \"Средняя численность работников, включая внешних совместителей\",\n",
    "                        \"Число туристских фирм\",\n",
    "                        \"Средства, поступившие от реализации туристкого продукта\",\n",
    "                        \"Число реализованных турпакетов населению\",\n",
    "                        \"Индекс стоимости жизни\",\n",
    "                        \"Год\")\n",
    "years: Final[list[int]] = list(range(2002, 2020))\n",
    "years.pop(1)"
   ]
  },
  {
   "attachments": {},
   "cell_type": "markdown",
   "metadata": {},
   "source": [
    "Собираем все упоминаемые названия регионов"
   ]
  },
  {
   "cell_type": "code",
   "execution_count": null,
   "metadata": {},
   "outputs": [],
   "source": [
    "regions: set[str] = set()\n",
    "mess: list[str] = data[\"Unnamed: 0\"].fillna(\"\").to_list()\n",
    "mess.append(\"\")\n",
    "print(mess)"
   ]
  },
  {
   "cell_type": "code",
   "execution_count": null,
   "metadata": {},
   "outputs": [],
   "source": [
    "def remove_numbers(string: str) -> str:\n",
    "    if string[0].isdigit():\n",
    "        space_position: int = string.find(\" \")\n",
    "        string = string[space_position + 1:]\n",
    "    return string\n",
    "\n",
    "features_positions: list[int] = list()\n",
    "i: int = 0\n",
    "string = mess[i]\n",
    "while string != features[-2]: \n",
    "    if string == \"\":\n",
    "        i += 1\n",
    "        string = mess[i]\n",
    "        continue\n",
    "    if string in features:\n",
    "        features_positions.append(i)\n",
    "        i += 1\n",
    "        string = mess[i]\n",
    "        while string != \"\":\n",
    "            regions.add(remove_numbers(string.strip()))\n",
    "            i += 1\n",
    "            string = mess[i]\n",
    "features_positions.append(i)\n",
    "regions = sorted(list(regions))\n",
    "print(*enumerate(regions), sep=\"\\n\")"
   ]
  },
  {
   "cell_type": "code",
   "execution_count": null,
   "metadata": {},
   "outputs": [],
   "source": [
    "new_data: pd.DataFrame = pd.DataFrame(data=np.full((len(regions) * len(years), len(features)), None), columns=features)\n",
    "for i in range(len(regions)):\n",
    "    for j, year in enumerate(years):\n",
    "        new_data.iloc[i * len(years) + j].iloc[0] = regions[i]\n",
    "        new_data.iloc[i * len(years) + j].loc[\"Год\"] = year\n",
    "new_data.set_index([\"Регион\", \"Год\"], inplace=True)\n",
    "\n",
    "new_data"
   ]
  },
  {
   "cell_type": "code",
   "execution_count": null,
   "metadata": {},
   "outputs": [],
   "source": [
    "cities = set()\n",
    "i += 1\n",
    "string = mess[i]\n",
    "while string != \"\":\n",
    "    cities.add(remove_numbers(string.strip()))\n",
    "    i += 1\n",
    "    string = mess[i]\n",
    "\n",
    "cities"
   ]
  },
  {
   "cell_type": "code",
   "execution_count": null,
   "metadata": {},
   "outputs": [],
   "source": [
    "cities_to_regions: dict[str, Optional[str]] = {\"Абакан\": regions[10],\n",
    "                                               \"Барнаул\": regions[1],\n",
    "                                               \"Горно-Алтайск\": regions[7],\n",
    "                                               \"Иркутск\": regions[3],\n",
    "                                               \"Кемерово\": None, # Кемеровская область не упоминается\n",
    "                                               \"Красноярск\": regions[4],\n",
    "                                               \"Кызыл\": regions[9],\n",
    "                                               \"Новосибирск\": regions[5],\n",
    "                                               \"Омск\": regions[6],\n",
    "                                               \"Северобайкальск\": regions[8],\n",
    "                                               \"Томск\": regions[12],\n",
    "                                               \"Тюмень\": regions[13],\n",
    "                                               \"Улан-Удэ\": regions[8],\n",
    "                                               \"Ханты-Мансийск\": regions[15],\n",
    "                                               \"Юрга\": None # Кемеровская область не упоминается\n",
    "                                               }"
   ]
  },
  {
   "cell_type": "code",
   "execution_count": null,
   "metadata": {},
   "outputs": [],
   "source": [
    "'''ities_to_regions: dict[str, dict[str]] = {regions[10]: {\"Абакан\"},\n",
    "                                           regions[1]: {\"Барнаул\"},\n",
    "                                           regions[7]: {\"Горно-Алтайск\"},\n",
    "                                           regions[3]: {\"Иркутск\"},\n",
    "                                           regions[4]: {\"Красноярск\"},\n",
    "                                           regions[9]: {\"Кызыл\"},\n",
    "                                           regions[5]: {\"Новосибирск\"},\n",
    "                                           regions[6]: {\"Омск\"},\n",
    "                                           regions[8]: {\"Северобайкальск\", \"Улан-Удэ\"},\n",
    "                                           regions[12]: {\"Томск\"},\n",
    "                                           regions[13]: {\"Тюмень\"},\n",
    "                                           regions[15]: {\"Ханты-Мансийск\"},\n",
    "                                           regions[0]: {},\n",
    "                                           regions[2]: {},\n",
    "                                           regions[11]: {},\n",
    "                                           regions[14]: {},\n",
    "                                           regions[16]: {},\n",
    "                                           regions[17]: {}\n",
    "                                           }'''"
   ]
  },
  {
   "cell_type": "code",
   "execution_count": null,
   "metadata": {},
   "outputs": [],
   "source": [
    "for feature_index, position in enumerate(features_positions[:-1]):\n",
    "    position += 1\n",
    "    string = mess[position].strip()\n",
    "    while string != \"\":\n",
    "        region = remove_numbers(string)\n",
    "        feature = features[feature_index + 1]\n",
    "        for i, year in enumerate(years, start=1):\n",
    "            new_data.loc[(region, year), feature] = data.iloc[position].iat[i]\n",
    "        position += 1\n",
    "        string = mess[position].strip()\n",
    "\n",
    "new_data"
   ]
  },
  {
   "cell_type": "code",
   "execution_count": null,
   "metadata": {},
   "outputs": [],
   "source": [
    "cities_data = data.iloc[-len(cities):,:]\n",
    "cities_data.fillna(0)\n"
   ]
  },
  {
   "cell_type": "code",
   "execution_count": null,
   "metadata": {},
   "outputs": [],
   "source": [
    "for _, row in cities_data.iterrows():\n",
    "    city = remove_numbers(row.iloc[0].strip())\n",
    "    for i, item in enumerate(row):\n",
    "        regions = cities_to_regions[city]\n",
    "        if region != None:\n",
    "            for j, year in enumerate(years, start=1):\n",
    "                new_data.loc[(region, year), features[-2]] = row.iat[j]\n",
    "\n",
    "new_data"
   ]
  },
  {
   "cell_type": "code",
   "execution_count": null,
   "metadata": {},
   "outputs": [],
   "source": [
    "new_data = new_data.applymap(lambda x: 0 if str(x).strip() == \"\" else x, na_action=\"ignore\")\n",
    "\n",
    "for column in new_data.columns:\n",
    "    mean: float = new_data.loc[:, column].mean()\n",
    "    new_data.loc[:, column].fillna(mean, inplace=True)\n",
    "\n",
    "new_data"
   ]
  },
  {
   "cell_type": "code",
   "execution_count": null,
   "metadata": {},
   "outputs": [],
   "source": [
    "sea.heatmap(new_data.corr());"
   ]
  },
  {
   "cell_type": "code",
   "execution_count": null,
   "metadata": {},
   "outputs": [],
   "source": [
    "new_data.drop([\"Индекс стоимости жизни\", \"Число ночевок в гостиницах и ананлогичных средствах размещения\"], axis=\"columns\", inplace=True)\n",
    "new_data"
   ]
  },
  {
   "cell_type": "code",
   "execution_count": null,
   "metadata": {},
   "outputs": [],
   "source": [
    "sea.heatmap(new_data.corr());"
   ]
  },
  {
   "cell_type": "code",
   "execution_count": null,
   "metadata": {},
   "outputs": [],
   "source": [
    "import sklearn.model_selection as model\n",
    "import sklearn.linear_model as linear\n",
    "import sklearn.metrics as metrics\n",
    "import sklearn.preprocessing as preprocessing"
   ]
  },
  {
   "cell_type": "code",
   "execution_count": null,
   "metadata": {},
   "outputs": [],
   "source": [
    "new_data.reset_index(inplace=True)\n",
    "new_data = pd.get_dummies(data=new_data, columns=[\"Регион\"])\n",
    "new_data"
   ]
  },
  {
   "cell_type": "code",
   "execution_count": null,
   "metadata": {},
   "outputs": [],
   "source": [
    "X: np.ndarray = new_data.drop([\"Средняя численность работников, включая внешних совместителей\", \"Год\"], axis=\"columns\").to_numpy()\n",
    "Y: np.ndarray = new_data.loc[:, \"Средняя численность работников, включая внешних совместителей\"].to_numpy()"
   ]
  },
  {
   "cell_type": "code",
   "execution_count": null,
   "metadata": {},
   "outputs": [],
   "source": [
    "polynom = preprocessing.PolynomialFeatures(1)\n",
    "X = polynom.fit_transform(X)\n",
    "X_train, X_test, Y_train, Y_test = model.train_test_split(X, Y, test_size=0.1, shuffle=True, random_state=14)"
   ]
  },
  {
   "cell_type": "code",
   "execution_count": null,
   "metadata": {},
   "outputs": [],
   "source": [
    "linear_model = model.GridSearchCV(linear.Ridge(), {\"alpha\": np.arange(0.05, 1, 0.01)}, cv=2).fit(X_train, Y_train)"
   ]
  },
  {
   "cell_type": "code",
   "execution_count": null,
   "metadata": {},
   "outputs": [],
   "source": [
    "prediction: np.ndarray = linear_model.predict(X_test)\n",
    "prediction"
   ]
  },
  {
   "cell_type": "code",
   "execution_count": null,
   "metadata": {},
   "outputs": [],
   "source": [
    "print(metrics.mean_absolute_error(Y_test, prediction))\n",
    "print(metrics.r2_score(Y_test, prediction))"
   ]
  },
  {
   "cell_type": "code",
   "execution_count": null,
   "metadata": {},
   "outputs": [],
   "source": [
    "import matplotlib.pyplot as plt\n",
    "\n",
    "plt.plot(Y_test, label=\"Actual\", color=\"green\");\n",
    "plt.plot(prediction, label=\"Prediction\", color=\"#9d68ed\");\n",
    "plt.legend();"
   ]
  }
 ],
 "metadata": {
  "kernelspec": {
   "display_name": "machine_learning",
   "language": "python",
   "name": "python3"
  },
  "language_info": {
   "codemirror_mode": {
    "name": "ipython",
    "version": 3
   },
   "file_extension": ".py",
   "mimetype": "text/x-python",
   "name": "python",
   "nbconvert_exporter": "python",
   "pygments_lexer": "ipython3",
   "version": "3.10.4"
  },
  "orig_nbformat": 4
 },
 "nbformat": 4,
 "nbformat_minor": 2
}
